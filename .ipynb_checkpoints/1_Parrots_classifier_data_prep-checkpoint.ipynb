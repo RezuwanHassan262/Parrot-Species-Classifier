{
 "cells": [
  {
   "cell_type": "code",
   "execution_count": 50,
   "metadata": {},
   "outputs": [
    {
     "name": "stdout",
     "output_type": "stream",
     "text": [
      "True\n",
      "1\n",
      "0\n"
     ]
    }
   ],
   "source": [
    "import torch\n",
    "print(torch.cuda.is_available())\n",
    "print(torch.cuda.device_count())\n",
    "print(torch.cuda.current_device())"
   ]
  },
  {
   "cell_type": "markdown",
   "metadata": {
    "id": "UApu6kUgwjK5"
   },
   "source": [
    "# **Extracting Classes from web**"
   ]
  },
  {
   "cell_type": "code",
   "execution_count": 51,
   "metadata": {
    "id": "EAgYpD1xcN6e"
   },
   "outputs": [],
   "source": [
    "import requests\n",
    "import bs4\n",
    "from bs4 import BeautifulSoup\n",
    "import pandas as pd\n",
    "from urllib.request import urlopen\n",
    "\n",
    "import numpy as np\n",
    "import pandas as pd\n",
    "import os"
   ]
  },
  {
   "cell_type": "code",
   "execution_count": 52,
   "metadata": {
    "id": "r8ClhbyPcN4e"
   },
   "outputs": [],
   "source": [
    "url = \"https://www.google.com/search?q=parrot+species&bih=955&biw=1920&hl=en&sxsrf=AB5stBgiHaMmZgUYv8e5-P9AKq-5UDlu7A%3A1689275741579&ei=XU2wZPH9Iu_b2roPtLe_oAY&ved=0ahUKEwixoITEsoyAAxXvrVYBHbTbD2QQ4dUDCA4&uact=5&oq=parrot+species&gs_lcp=Cgxnd3Mtd2l6LXNlcnAQAzIHCCMQigUQJzIHCCMQigUQJzIFCAAQgAQyBQgAEIAEMgUIABCABDIFCAAQgAQyBQgAEIAEMgUIABCABDIFCAAQgAQyBQgAEIAEOgoIABBHENYEELADOgoILhCKBRCwAxBDOgYIABAWEB46CAgAEBYQHhAPSgQIQRgAUM0HWPURYN0TaAFwAXgAgAGoAYgBtwaSAQMwLjWYAQCgAQHAAQHIAQk&sclient=gws-wiz-serp\"\n",
    "\n",
    "#(requests.get(url, {}).text, \"lxml\") #taking the url as text and converting into lxml"
   ]
  },
  {
   "cell_type": "code",
   "execution_count": 53,
   "metadata": {
    "id": "T6-wAr5DcN2e"
   },
   "outputs": [],
   "source": [
    "url = \"https://www.google.com/search?q=parrot+species&bih=955&biw=1920&hl=en&sxsrf=AB5stBgiHaMmZgUYv8e5-P9AKq-5UDlu7A%3A1689275741579&ei=XU2wZPH9Iu_b2roPtLe_oAY&ved=0ahUKEwixoITEsoyAAxXvrVYBHbTbD2QQ4dUDCA4&uact=5&oq=parrot+species&gs_lcp=Cgxnd3Mtd2l6LXNlcnAQAzIHCCMQigUQJzIHCCMQigUQJzIFCAAQgAQyBQgAEIAEMgUIABCABDIFCAAQgAQyBQgAEIAEMgUIABCABDIFCAAQgAQyBQgAEIAEOgoIABBHENYEELADOgoILhCKBRCwAxBDOgYIABAWEB46CAgAEBYQHhAPSgQIQRgAUM0HWPURYN0TaAFwAXgAgAGoAYgBtwaSAQMwLjWYAQCgAQHAAQHIAQk&sclient=gws-wiz-serp\"\n",
    "web_page = bs4.BeautifulSoup(requests.get(url, {}).text, \"lxml\") #Extracting HTML of the static webpage\n",
    "# web_page #The HTML code of the page"
   ]
  },
  {
   "cell_type": "code",
   "execution_count": 54,
   "metadata": {
    "colab": {
     "base_uri": "https://localhost:8080/"
    },
    "id": "nBNqkgJ5cN0K",
    "outputId": "bfa4878d-be15-4e9a-b946-06ba1db0187f"
   },
   "outputs": [
    {
     "data": {
      "text/plain": [
       "[<div class=\"BNeawe s3v9rd AP7Wnd\">Grey parrot</div>,\n",
       " <div class=\"BNeawe s3v9rd AP7Wnd\">Cockatiel</div>,\n",
       " <div class=\"BNeawe s3v9rd AP7Wnd\">Budgerigar</div>,\n",
       " <div class=\"BNeawe s3v9rd AP7Wnd\">Moluccan eclectus</div>,\n",
       " <div class=\"BNeawe s3v9rd AP7Wnd\">Hyacinth macaw</div>,\n",
       " <div class=\"BNeawe s3v9rd AP7Wnd\">Blue-and-yellow macaw</div>,\n",
       " <div class=\"BNeawe s3v9rd AP7Wnd\">Rose-ringed parakeet</div>,\n",
       " <div class=\"BNeawe s3v9rd AP7Wnd\">Scarlet macaw</div>,\n",
       " <div class=\"BNeawe s3v9rd AP7Wnd\">Monk parakeet</div>,\n",
       " <div class=\"BNeawe s3v9rd AP7Wnd\">Sun conure</div>,\n",
       " <div class=\"BNeawe s3v9rd AP7Wnd\">Rainbow lorikeet</div>,\n",
       " <div class=\"BNeawe s3v9rd AP7Wnd\">Senegal parrot</div>,\n",
       " <div class=\"BNeawe s3v9rd AP7Wnd\">Turquoise-fronted amazon</div>,\n",
       " <div class=\"BNeawe s3v9rd AP7Wnd\">Sulphur-crested cockatoo</div>,\n",
       " <div class=\"BNeawe s3v9rd AP7Wnd\">Burrowing parrot</div>,\n",
       " <div class=\"BNeawe s3v9rd AP7Wnd\">Lilac-crowned amazon</div>,\n",
       " <div class=\"BNeawe s3v9rd AP7Wnd\">Red-crowned amazon</div>,\n",
       " <div class=\"BNeawe s3v9rd AP7Wnd\">Red-and-green macaw</div>,\n",
       " <div class=\"BNeawe s3v9rd AP7Wnd\">Carolina parakeet</div>,\n",
       " <div class=\"BNeawe s3v9rd AP7Wnd\">Yellow-crowned amazon</div>,\n",
       " <div class=\"BNeawe s3v9rd AP7Wnd\">Cuban amazon</div>,\n",
       " <div class=\"BNeawe s3v9rd AP7Wnd\">Thick-billed parrot</div>,\n",
       " <div class=\"BNeawe s3v9rd AP7Wnd\">Red-rumped parrot</div>,\n",
       " <div class=\"BNeawe s3v9rd AP7Wnd\">Golden parakeet</div>,\n",
       " <div class=\"BNeawe s3v9rd AP7Wnd\">Puerto Rican ama...</div>,\n",
       " <div class=\"BNeawe s3v9rd AP7Wnd\">Rosy-faced lovebird</div>,\n",
       " <div class=\"BNeawe s3v9rd AP7Wnd\">Kea</div>,\n",
       " <div class=\"BNeawe s3v9rd AP7Wnd\">Orange-winged amazon</div>,\n",
       " <div class=\"BNeawe s3v9rd AP7Wnd\">Green rosella</div>,\n",
       " <div class=\"BNeawe s3v9rd AP7Wnd\">Hispaniolan amazon</div>,\n",
       " <div class=\"BNeawe s3v9rd AP7Wnd\">Saint Vincent a...</div>,\n",
       " <div class=\"BNeawe s3v9rd AP7Wnd\">Vernal hanging p...</div>,\n",
       " <div class=\"BNeawe s3v9rd AP7Wnd\">Orange-bellied parrot</div>,\n",
       " <div class=\"BNeawe s3v9rd AP7Wnd\">Yellow-naped amazon</div>,\n",
       " <div class=\"BNeawe s3v9rd AP7Wnd\">Pacific parrotlet</div>,\n",
       " <div class=\"BNeawe s3v9rd AP7Wnd\">Kākāpō</div>,\n",
       " <div class=\"BNeawe s3v9rd AP7Wnd\">Palm cockatoo</div>,\n",
       " <div class=\"BNeawe s3v9rd AP7Wnd\">Yellow-faced parrot</div>,\n",
       " <div class=\"BNeawe s3v9rd AP7Wnd\">Australian king parrot</div>,\n",
       " <div class=\"BNeawe s3v9rd AP7Wnd\">Chestnut-fronted macaw</div>,\n",
       " <div class=\"BNeawe s3v9rd AP7Wnd\">Galah</div>,\n",
       " <div class=\"BNeawe s3v9rd AP7Wnd\">Green parakeet</div>,\n",
       " <div class=\"BNeawe s3v9rd AP7Wnd\">Blue-crowned parakeet</div>,\n",
       " <div class=\"BNeawe s3v9rd AP7Wnd\">Yellow-headed amazon</div>,\n",
       " <div class=\"BNeawe s3v9rd AP7Wnd\">Blue-headed parrot</div>,\n",
       " <div class=\"BNeawe s3v9rd AP7Wnd\">Red-fan parrot</div>,\n",
       " <div class=\"BNeawe s3v9rd AP7Wnd\">Military macaw</div>,\n",
       " <div class=\"BNeawe s3v9rd AP7Wnd\">Eastern ground pa...</div>,\n",
       " <div class=\"BNeawe s3v9rd AP7Wnd\">Red-crowned parakeet</div>,\n",
       " <div class=\"BNeawe s3v9rd AP7Wnd\">Blue lorikeet</div>,\n",
       " <div class=\"BNeawe s3v9rd AP7Wnd\">Golden-winged parakeet</div>,\n",
       " <div class=\"BNeawe s3v9rd AP7Wnd\"><div><div class=\"v9i61e\"><div class=\"BNeawe s3v9rd AP7Wnd\">Parrot species that are commonly kept as pets include conures, macaws, amazon parrots, cockatoos, greys, lovebirds, cockatiels, budgerigars, caiques, parakeets, ...</div></div><div class=\"v9i61e\"><div class=\"BNeawe s3v9rd AP7Wnd\"><span class=\"BNeawe\"><a data-ved=\"2ahUKEwi0j6Pb2ZWAAxVhqpUCHYdMBVAQ0gJ6BAgGEAU\" href=\"/url?q=https://en.wikipedia.org/wiki/List_of_parrots&amp;sa=U&amp;ved=2ahUKEwi0j6Pb2ZWAAxVhqpUCHYdMBVAQ0gJ6BAgGEAU&amp;usg=AOvVaw1sS2hm8UWKE_LpvxwHb_Sg\" jsname=\"ACyKwe\"><span class=\"XLloXe AP7Wnd\">List of parrots</span></a></span> · <span class=\"BNeawe\"><a data-ved=\"2ahUKEwi0j6Pb2ZWAAxVhqpUCHYdMBVAQ0gJ6BAgGEAY\" href=\"/url?q=https://en.wikipedia.org/wiki/True_parrot&amp;sa=U&amp;ved=2ahUKEwi0j6Pb2ZWAAxVhqpUCHYdMBVAQ0gJ6BAgGEAY&amp;usg=AOvVaw0ihyO8tYQ15DAW7Y7X3ScI\" jsname=\"ACyKwe\"><span class=\"XLloXe AP7Wnd\">True parrot</span></a></span> · <span class=\"BNeawe\"><a data-ved=\"2ahUKEwi0j6Pb2ZWAAxVhqpUCHYdMBVAQ0gJ6BAgGEAc\" href=\"/url?q=https://en.wikipedia.org/wiki/Companion_parrot&amp;sa=U&amp;ved=2ahUKEwi0j6Pb2ZWAAxVhqpUCHYdMBVAQ0gJ6BAgGEAc&amp;usg=AOvVaw0HRO0JmYY1dqvNNKIUA6RM\" jsname=\"ACyKwe\"><span class=\"XLloXe AP7Wnd\">Companion parrot</span></a></span> · <span class=\"BNeawe\"><a data-ved=\"2ahUKEwi0j6Pb2ZWAAxVhqpUCHYdMBVAQ0gJ6BAgGEAg\" href=\"/url?q=https://en.wikipedia.org/wiki/Feral_parrot&amp;sa=U&amp;ved=2ahUKEwi0j6Pb2ZWAAxVhqpUCHYdMBVAQ0gJ6BAgGEAg&amp;usg=AOvVaw2--S1-rpr-VO8Z2QeTzfxc\" jsname=\"ACyKwe\"><span class=\"XLloXe AP7Wnd\">Feral parrot</span></a></span></div></div><div><div class=\"BNeawe s3v9rd AP7Wnd\">Order: <span class=\"r0bn4c rQMQod\">Psittaciformes; </span><span class=\"BNeawe\"><a data-ved=\"2ahUKEwi0j6Pb2ZWAAxVhqpUCHYdMBVAQs2Z6BAgGEAs\" href=\"/url?q=http://en.wikipedia.org/wiki/Johann_Georg_Wagler&amp;sa=U&amp;ved=2ahUKEwi0j6Pb2ZWAAxVhqpUCHYdMBVAQs2Z6BAgGEAs&amp;usg=AOvVaw1n0oMHvbmlwJ6TbZ-1870J\" jsname=\"ACyKwe\"><span class=\"XLloXe AP7Wnd\">Wagler</span></a></span><span class=\"r0bn4c rQMQod\">, 1830</span><br/>Class: <span class=\"BNeawe\"><a data-ved=\"2ahUKEwi0j6Pb2ZWAAxVhqpUCHYdMBVAQs2Z6BAgGEA0\" href=\"/url?q=http://en.wikipedia.org/wiki/Bird&amp;sa=U&amp;ved=2ahUKEwi0j6Pb2ZWAAxVhqpUCHYdMBVAQs2Z6BAgGEA0&amp;usg=AOvVaw3jI8H6j89-oluBaH1B6xIw\" jsname=\"ACyKwe\"><span class=\"XLloXe AP7Wnd\">Aves</span></a></span></div></div></div></div>,\n",
       " <div class=\"BNeawe s3v9rd AP7Wnd\">Parrot species that are commonly kept as pets include conures, macaws, amazon parrots, cockatoos, greys, lovebirds, cockatiels, budgerigars, caiques, parakeets, ...</div>,\n",
       " <div class=\"BNeawe s3v9rd AP7Wnd\"><span class=\"BNeawe\"><a data-ved=\"2ahUKEwi0j6Pb2ZWAAxVhqpUCHYdMBVAQ0gJ6BAgGEAU\" href=\"/url?q=https://en.wikipedia.org/wiki/List_of_parrots&amp;sa=U&amp;ved=2ahUKEwi0j6Pb2ZWAAxVhqpUCHYdMBVAQ0gJ6BAgGEAU&amp;usg=AOvVaw1sS2hm8UWKE_LpvxwHb_Sg\" jsname=\"ACyKwe\"><span class=\"XLloXe AP7Wnd\">List of parrots</span></a></span> · <span class=\"BNeawe\"><a data-ved=\"2ahUKEwi0j6Pb2ZWAAxVhqpUCHYdMBVAQ0gJ6BAgGEAY\" href=\"/url?q=https://en.wikipedia.org/wiki/True_parrot&amp;sa=U&amp;ved=2ahUKEwi0j6Pb2ZWAAxVhqpUCHYdMBVAQ0gJ6BAgGEAY&amp;usg=AOvVaw0ihyO8tYQ15DAW7Y7X3ScI\" jsname=\"ACyKwe\"><span class=\"XLloXe AP7Wnd\">True parrot</span></a></span> · <span class=\"BNeawe\"><a data-ved=\"2ahUKEwi0j6Pb2ZWAAxVhqpUCHYdMBVAQ0gJ6BAgGEAc\" href=\"/url?q=https://en.wikipedia.org/wiki/Companion_parrot&amp;sa=U&amp;ved=2ahUKEwi0j6Pb2ZWAAxVhqpUCHYdMBVAQ0gJ6BAgGEAc&amp;usg=AOvVaw0HRO0JmYY1dqvNNKIUA6RM\" jsname=\"ACyKwe\"><span class=\"XLloXe AP7Wnd\">Companion parrot</span></a></span> · <span class=\"BNeawe\"><a data-ved=\"2ahUKEwi0j6Pb2ZWAAxVhqpUCHYdMBVAQ0gJ6BAgGEAg\" href=\"/url?q=https://en.wikipedia.org/wiki/Feral_parrot&amp;sa=U&amp;ved=2ahUKEwi0j6Pb2ZWAAxVhqpUCHYdMBVAQ0gJ6BAgGEAg&amp;usg=AOvVaw2--S1-rpr-VO8Z2QeTzfxc\" jsname=\"ACyKwe\"><span class=\"XLloXe AP7Wnd\">Feral parrot</span></a></span></div>,\n",
       " <div class=\"BNeawe s3v9rd AP7Wnd\">Order: <span class=\"r0bn4c rQMQod\">Psittaciformes; </span><span class=\"BNeawe\"><a data-ved=\"2ahUKEwi0j6Pb2ZWAAxVhqpUCHYdMBVAQs2Z6BAgGEAs\" href=\"/url?q=http://en.wikipedia.org/wiki/Johann_Georg_Wagler&amp;sa=U&amp;ved=2ahUKEwi0j6Pb2ZWAAxVhqpUCHYdMBVAQs2Z6BAgGEAs&amp;usg=AOvVaw1n0oMHvbmlwJ6TbZ-1870J\" jsname=\"ACyKwe\"><span class=\"XLloXe AP7Wnd\">Wagler</span></a></span><span class=\"r0bn4c rQMQod\">, 1830</span><br/>Class: <span class=\"BNeawe\"><a data-ved=\"2ahUKEwi0j6Pb2ZWAAxVhqpUCHYdMBVAQs2Z6BAgGEA0\" href=\"/url?q=http://en.wikipedia.org/wiki/Bird&amp;sa=U&amp;ved=2ahUKEwi0j6Pb2ZWAAxVhqpUCHYdMBVAQs2Z6BAgGEA0&amp;usg=AOvVaw3jI8H6j89-oluBaH1B6xIw\" jsname=\"ACyKwe\"><span class=\"XLloXe AP7Wnd\">Aves</span></a></span></div>,\n",
       " <div class=\"BNeawe s3v9rd AP7Wnd\"><div><div class=\"v9i61e\"><div class=\"BNeawe s3v9rd AP7Wnd\">Parrots, also known as psittacines are the 402 species of birds that make up the order Psittaciformes, found in most tropical and subtropical regions, ...</div></div><div><div class=\"BNeawe s3v9rd AP7Wnd\"><span class=\"BNeawe\"><a data-ved=\"2ahUKEwi0j6Pb2ZWAAxVhqpUCHYdMBVAQ0gJ6BAgJEAU\" href=\"/url?q=https://en.wikipedia.org/wiki/List_of_parrots%23Conventions&amp;sa=U&amp;ved=2ahUKEwi0j6Pb2ZWAAxVhqpUCHYdMBVAQ0gJ6BAgJEAU&amp;usg=AOvVaw3IrGstoW5rrHQLw3S61XVT\" jsname=\"ACyKwe\"><span class=\"XLloXe AP7Wnd\">Conventions</span></a></span> · <span class=\"BNeawe\"><a data-ved=\"2ahUKEwi0j6Pb2ZWAAxVhqpUCHYdMBVAQ0gJ6BAgJEAY\" href=\"/url?q=https://en.wikipedia.org/wiki/List_of_parrots%23Classification&amp;sa=U&amp;ved=2ahUKEwi0j6Pb2ZWAAxVhqpUCHYdMBVAQ0gJ6BAgJEAY&amp;usg=AOvVaw0BDtiuiVW_J1VlId2BcuVV\" jsname=\"ACyKwe\"><span class=\"XLloXe AP7Wnd\">Classification</span></a></span> · <span class=\"BNeawe\"><a data-ved=\"2ahUKEwi0j6Pb2ZWAAxVhqpUCHYdMBVAQ0gJ6BAgJEAc\" href=\"/url?q=https://en.wikipedia.org/wiki/List_of_parrots%23True_parrots&amp;sa=U&amp;ved=2ahUKEwi0j6Pb2ZWAAxVhqpUCHYdMBVAQ0gJ6BAgJEAc&amp;usg=AOvVaw1RdIVYrJ-Qhfhd0c1uM0SG\" jsname=\"ACyKwe\"><span class=\"XLloXe AP7Wnd\">True parrots</span></a></span> · <span class=\"BNeawe\"><a data-ved=\"2ahUKEwi0j6Pb2ZWAAxVhqpUCHYdMBVAQ0gJ6BAgJEAg\" href=\"/url?q=https://en.wikipedia.org/wiki/List_of_parrots%23Cockatoos&amp;sa=U&amp;ved=2ahUKEwi0j6Pb2ZWAAxVhqpUCHYdMBVAQ0gJ6BAgJEAg&amp;usg=AOvVaw3-J0FkykwAViMkHwEfF9MJ\" jsname=\"ACyKwe\"><span class=\"XLloXe AP7Wnd\">Cockatoos</span></a></span></div></div></div></div>,\n",
       " <div class=\"BNeawe s3v9rd AP7Wnd\">Parrots, also known as psittacines are the 402 species of birds that make up the order Psittaciformes, found in most tropical and subtropical regions, ...</div>,\n",
       " <div class=\"BNeawe s3v9rd AP7Wnd\"><span class=\"BNeawe\"><a data-ved=\"2ahUKEwi0j6Pb2ZWAAxVhqpUCHYdMBVAQ0gJ6BAgJEAU\" href=\"/url?q=https://en.wikipedia.org/wiki/List_of_parrots%23Conventions&amp;sa=U&amp;ved=2ahUKEwi0j6Pb2ZWAAxVhqpUCHYdMBVAQ0gJ6BAgJEAU&amp;usg=AOvVaw3IrGstoW5rrHQLw3S61XVT\" jsname=\"ACyKwe\"><span class=\"XLloXe AP7Wnd\">Conventions</span></a></span> · <span class=\"BNeawe\"><a data-ved=\"2ahUKEwi0j6Pb2ZWAAxVhqpUCHYdMBVAQ0gJ6BAgJEAY\" href=\"/url?q=https://en.wikipedia.org/wiki/List_of_parrots%23Classification&amp;sa=U&amp;ved=2ahUKEwi0j6Pb2ZWAAxVhqpUCHYdMBVAQ0gJ6BAgJEAY&amp;usg=AOvVaw0BDtiuiVW_J1VlId2BcuVV\" jsname=\"ACyKwe\"><span class=\"XLloXe AP7Wnd\">Classification</span></a></span> · <span class=\"BNeawe\"><a data-ved=\"2ahUKEwi0j6Pb2ZWAAxVhqpUCHYdMBVAQ0gJ6BAgJEAc\" href=\"/url?q=https://en.wikipedia.org/wiki/List_of_parrots%23True_parrots&amp;sa=U&amp;ved=2ahUKEwi0j6Pb2ZWAAxVhqpUCHYdMBVAQ0gJ6BAgJEAc&amp;usg=AOvVaw1RdIVYrJ-Qhfhd0c1uM0SG\" jsname=\"ACyKwe\"><span class=\"XLloXe AP7Wnd\">True parrots</span></a></span> · <span class=\"BNeawe\"><a data-ved=\"2ahUKEwi0j6Pb2ZWAAxVhqpUCHYdMBVAQ0gJ6BAgJEAg\" href=\"/url?q=https://en.wikipedia.org/wiki/List_of_parrots%23Cockatoos&amp;sa=U&amp;ved=2ahUKEwi0j6Pb2ZWAAxVhqpUCHYdMBVAQ0gJ6BAgJEAg&amp;usg=AOvVaw3-J0FkykwAViMkHwEfF9MJ\" jsname=\"ACyKwe\"><span class=\"XLloXe AP7Wnd\">Cockatoos</span></a></span></div>,\n",
       " <div class=\"BNeawe s3v9rd AP7Wnd\"><div><div><div class=\"BNeawe s3v9rd AP7Wnd\"><span class=\"r0bn4c rQMQod\">Jun 7, 2022</span><span class=\"r0bn4c rQMQod\"> · </span>Parrots such as parakeets, macaws, cockatiels, and cockatoos belong to the order Psittaciformes. They come in various shapes and sizes, but they ...</div></div></div></div>,\n",
       " <div class=\"BNeawe s3v9rd AP7Wnd\"><span class=\"r0bn4c rQMQod\">Jun 7, 2022</span><span class=\"r0bn4c rQMQod\"> · </span>Parrots such as parakeets, macaws, cockatiels, and cockatoos belong to the order Psittaciformes. They come in various shapes and sizes, but they ...</div>,\n",
       " <div class=\"BNeawe s3v9rd AP7Wnd\"><div><div class=\"v9i61e\"><div class=\"BNeawe s3v9rd AP7Wnd\"><span class=\"r0bn4c rQMQod\">3 days ago</span><span class=\"r0bn4c rQMQod\"> · </span>1. African Grey Parrots · 2. Cockatoos · 3. Macaws · 4. Parrotlet · 5. Cockatiel · 6. Senegal Parrot · 7. Parakeets · 8. Eclectus Parrots.</div></div><div><div class=\"BNeawe s3v9rd AP7Wnd\"><span class=\"BNeawe\"><a data-ved=\"2ahUKEwi0j6Pb2ZWAAxVhqpUCHYdMBVAQ0gJ6BAgHEAY\" href=\"/url?q=https://petkeen.com/types-of-parrots-to-keep-as-pets/%23The_20_Types_of_Parrots_to_Keep_as_Pets&amp;sa=U&amp;ved=2ahUKEwi0j6Pb2ZWAAxVhqpUCHYdMBVAQ0gJ6BAgHEAY&amp;usg=AOvVaw37u8EXTwIR_xoDdLqIgpXy\" jsname=\"ACyKwe\"><span class=\"XLloXe AP7Wnd\">The 20 Types of Parrots to...</span></a></span> · <span class=\"BNeawe\"><a data-ved=\"2ahUKEwi0j6Pb2ZWAAxVhqpUCHYdMBVAQ0gJ6BAgHEAc\" href=\"/url?q=https://petkeen.com/types-of-parrots-to-keep-as-pets/%236_Senegal_Parrot&amp;sa=U&amp;ved=2ahUKEwi0j6Pb2ZWAAxVhqpUCHYdMBVAQ0gJ6BAgHEAc&amp;usg=AOvVaw2ip1h8XhQv9LTf0cHjZbRI\" jsname=\"ACyKwe\"><span class=\"XLloXe AP7Wnd\">Senegal Parrot</span></a></span> · <span class=\"BNeawe\"><a data-ved=\"2ahUKEwi0j6Pb2ZWAAxVhqpUCHYdMBVAQ0gJ6BAgHEAg\" href=\"/url?q=https://petkeen.com/types-of-parrots-to-keep-as-pets/%239_Amazon_Parrots&amp;sa=U&amp;ved=2ahUKEwi0j6Pb2ZWAAxVhqpUCHYdMBVAQ0gJ6BAgHEAg&amp;usg=AOvVaw2xvxUN62f1L-I-XkZw3c2y\" jsname=\"ACyKwe\"><span class=\"XLloXe AP7Wnd\">Amazon Parrots</span></a></span> · <span class=\"BNeawe\"><a data-ved=\"2ahUKEwi0j6Pb2ZWAAxVhqpUCHYdMBVAQ0gJ6BAgHEAk\" href=\"/url?q=https://petkeen.com/types-of-parrots-to-keep-as-pets/%2312_Burrowing_Parrot&amp;sa=U&amp;ved=2ahUKEwi0j6Pb2ZWAAxVhqpUCHYdMBVAQ0gJ6BAgHEAk&amp;usg=AOvVaw0q2Wq6WA9b3M58BASPbo1Z\" jsname=\"ACyKwe\"><span class=\"XLloXe AP7Wnd\">Burrowing Parrot</span></a></span></div></div></div></div>,\n",
       " <div class=\"BNeawe s3v9rd AP7Wnd\"><span class=\"r0bn4c rQMQod\">3 days ago</span><span class=\"r0bn4c rQMQod\"> · </span>1. African Grey Parrots · 2. Cockatoos · 3. Macaws · 4. Parrotlet · 5. Cockatiel · 6. Senegal Parrot · 7. Parakeets · 8. Eclectus Parrots.</div>,\n",
       " <div class=\"BNeawe s3v9rd AP7Wnd\"><span class=\"BNeawe\"><a data-ved=\"2ahUKEwi0j6Pb2ZWAAxVhqpUCHYdMBVAQ0gJ6BAgHEAY\" href=\"/url?q=https://petkeen.com/types-of-parrots-to-keep-as-pets/%23The_20_Types_of_Parrots_to_Keep_as_Pets&amp;sa=U&amp;ved=2ahUKEwi0j6Pb2ZWAAxVhqpUCHYdMBVAQ0gJ6BAgHEAY&amp;usg=AOvVaw37u8EXTwIR_xoDdLqIgpXy\" jsname=\"ACyKwe\"><span class=\"XLloXe AP7Wnd\">The 20 Types of Parrots to...</span></a></span> · <span class=\"BNeawe\"><a data-ved=\"2ahUKEwi0j6Pb2ZWAAxVhqpUCHYdMBVAQ0gJ6BAgHEAc\" href=\"/url?q=https://petkeen.com/types-of-parrots-to-keep-as-pets/%236_Senegal_Parrot&amp;sa=U&amp;ved=2ahUKEwi0j6Pb2ZWAAxVhqpUCHYdMBVAQ0gJ6BAgHEAc&amp;usg=AOvVaw2ip1h8XhQv9LTf0cHjZbRI\" jsname=\"ACyKwe\"><span class=\"XLloXe AP7Wnd\">Senegal Parrot</span></a></span> · <span class=\"BNeawe\"><a data-ved=\"2ahUKEwi0j6Pb2ZWAAxVhqpUCHYdMBVAQ0gJ6BAgHEAg\" href=\"/url?q=https://petkeen.com/types-of-parrots-to-keep-as-pets/%239_Amazon_Parrots&amp;sa=U&amp;ved=2ahUKEwi0j6Pb2ZWAAxVhqpUCHYdMBVAQ0gJ6BAgHEAg&amp;usg=AOvVaw2xvxUN62f1L-I-XkZw3c2y\" jsname=\"ACyKwe\"><span class=\"XLloXe AP7Wnd\">Amazon Parrots</span></a></span> · <span class=\"BNeawe\"><a data-ved=\"2ahUKEwi0j6Pb2ZWAAxVhqpUCHYdMBVAQ0gJ6BAgHEAk\" href=\"/url?q=https://petkeen.com/types-of-parrots-to-keep-as-pets/%2312_Burrowing_Parrot&amp;sa=U&amp;ved=2ahUKEwi0j6Pb2ZWAAxVhqpUCHYdMBVAQ0gJ6BAgHEAk&amp;usg=AOvVaw0q2Wq6WA9b3M58BASPbo1Z\" jsname=\"ACyKwe\"><span class=\"XLloXe AP7Wnd\">Burrowing Parrot</span></a></span></div>,\n",
       " <div class=\"BNeawe s3v9rd AP7Wnd\"><div><div><div class=\"BNeawe s3v9rd AP7Wnd\">List of Top 15 Parrot Types: · 1. Rainbow Lorikeet: · 2. Rose-Ringed Parakeet: · 3. African Grey Parrots: · 4. Blue and Yellow Macaw: · 5. Budgerigar: · 6. Caique: · 7 ...</div></div></div></div>,\n",
       " <div class=\"BNeawe s3v9rd AP7Wnd\">List of Top 15 Parrot Types: · 1. Rainbow Lorikeet: · 2. Rose-Ringed Parakeet: · 3. African Grey Parrots: · 4. Blue and Yellow Macaw: · 5. Budgerigar: · 6. Caique: · 7 ...</div>,\n",
       " <div class=\"BNeawe s3v9rd AP7Wnd\"><div><div><div class=\"BNeawe s3v9rd AP7Wnd\"><span class=\"r0bn4c rQMQod\">May 25, 2023</span><span class=\"r0bn4c rQMQod\"> · </span>The family Psittacidae numbers 333 species. The subfamily Psittacinae, the “true” parrots, is by far the largest subfamily, with members found ...</div></div></div></div>,\n",
       " <div class=\"BNeawe s3v9rd AP7Wnd\"><span class=\"r0bn4c rQMQod\">May 25, 2023</span><span class=\"r0bn4c rQMQod\"> · </span>The family Psittacidae numbers 333 species. The subfamily Psittacinae, the “true” parrots, is by far the largest subfamily, with members found ...</div>,\n",
       " <div class=\"BNeawe s3v9rd AP7Wnd\"><div><div><div class=\"BNeawe s3v9rd AP7Wnd\"><span class=\"r0bn4c rQMQod\">Jan 10, 2020</span><span class=\"r0bn4c rQMQod\"> · </span>8 Top Colorful Parrot Species · Eclectus · Sun Conure · Scarlet Macaw · Blue-and-Gold Macaw · Lilac-Crowned Amazon · Hyacinth Macaw · Rose-Breasted ...</div></div></div></div>,\n",
       " <div class=\"BNeawe s3v9rd AP7Wnd\"><span class=\"r0bn4c rQMQod\">Jan 10, 2020</span><span class=\"r0bn4c rQMQod\"> · </span>8 Top Colorful Parrot Species · Eclectus · Sun Conure · Scarlet Macaw · Blue-and-Gold Macaw · Lilac-Crowned Amazon · Hyacinth Macaw · Rose-Breasted ...</div>,\n",
       " <div class=\"BNeawe s3v9rd AP7Wnd\"><div><div><div class=\"BNeawe s3v9rd AP7Wnd\">Blue parrot species range from small to very large in size and come in powdery light blues to deep indigos. Some of these birds simply have flashy blue markings ...</div></div></div></div>,\n",
       " <div class=\"BNeawe s3v9rd AP7Wnd\">Blue parrot species range from small to very large in size and come in powdery light blues to deep indigos. Some of these birds simply have flashy blue markings ...</div>,\n",
       " <div class=\"BNeawe s3v9rd AP7Wnd\"><div><div><div class=\"BNeawe s3v9rd AP7Wnd\"><span class=\"r0bn4c rQMQod\">Mar 30, 2020</span><span class=\"r0bn4c rQMQod\"> · </span>The Many Types of Parrots ; Small Parrots. Cockatiels. Lovebirds ; Medium Parrots. Caiques. Small Conures ; Large Parrots. African Greys. Amazons ...</div></div></div></div>,\n",
       " <div class=\"BNeawe s3v9rd AP7Wnd\"><span class=\"r0bn4c rQMQod\">Mar 30, 2020</span><span class=\"r0bn4c rQMQod\"> · </span>The Many Types of Parrots ; Small Parrots. Cockatiels. Lovebirds ; Medium Parrots. Caiques. Small Conures ; Large Parrots. African Greys. Amazons ...</div>,\n",
       " <div class=\"BNeawe s3v9rd AP7Wnd\"><div><div><div class=\"BNeawe s3v9rd AP7Wnd\"><span class=\"r0bn4c rQMQod\">May 26, 2022</span><span class=\"r0bn4c rQMQod\"> · </span>1. Amazon Parrot · 2. Caique Parrot · 3. Cockatiel · 4. Cockatoo · 5. Conure Parrot · 6. Eclectus Parrot · 7. Lovebird · 8. Macaw.</div></div></div></div>,\n",
       " <div class=\"BNeawe s3v9rd AP7Wnd\"><span class=\"r0bn4c rQMQod\">May 26, 2022</span><span class=\"r0bn4c rQMQod\"> · </span>1. Amazon Parrot · 2. Caique Parrot · 3. Cockatiel · 4. Cockatoo · 5. Conure Parrot · 6. Eclectus Parrot · 7. Lovebird · 8. Macaw.</div>,\n",
       " <div class=\"BNeawe s3v9rd AP7Wnd\">Australian ringneck</div>,\n",
       " <div class=\"BNeawe s3v9rd AP7Wnd\">Green rosella</div>,\n",
       " <div class=\"BNeawe s3v9rd AP7Wnd\">Crimson rosella</div>,\n",
       " <div class=\"BNeawe s3v9rd AP7Wnd\">Eastern rosella</div>]"
      ]
     },
     "execution_count": 54,
     "metadata": {},
     "output_type": "execute_result"
    }
   ],
   "source": [
    "tables = web_page.find_all(name=\"div\",attrs = {\"class\":\"BNeawe s3v9rd AP7Wnd\"}) #With class name\n",
    "\n",
    "\n",
    "tables"
   ]
  },
  {
   "cell_type": "code",
   "execution_count": 55,
   "metadata": {
    "colab": {
     "base_uri": "https://localhost:8080/"
    },
    "id": "ytMHHUVfrYts",
    "outputId": "4aed64a8-b263-4027-98f6-9d2c5ec400b7"
   },
   "outputs": [
    {
     "data": {
      "text/plain": [
       "<div class=\"BNeawe s3v9rd AP7Wnd\">Grey parrot</div>"
      ]
     },
     "execution_count": 55,
     "metadata": {},
     "output_type": "execute_result"
    }
   ],
   "source": [
    "tables[0]"
   ]
  },
  {
   "cell_type": "code",
   "execution_count": 56,
   "metadata": {
    "colab": {
     "base_uri": "https://localhost:8080/"
    },
    "id": "jlwyobiGcNrP",
    "outputId": "350736fb-3322-494e-ccf2-387423f73144"
   },
   "outputs": [
    {
     "name": "stdout",
     "output_type": "stream",
     "text": [
      "\n",
      "\n",
      "\n",
      "['grey parrot', 'cockatiel', 'budgerigar', 'moluccan eclectus', 'hyacinth macaw', 'blue-and-yellow macaw', 'rose-ringed parakeet', 'scarlet macaw', 'monk parakeet', 'sun conure', 'rainbow lorikeet', 'senegal parrot', 'turquoise-fronted amazon', 'sulphur-crested cockatoo', 'burrowing parrot', 'lilac-crowned amazon', 'red-crowned amazon', 'red-and-green macaw', 'carolina parakeet', 'yellow-crowned amazon', 'cuban amazon', 'thick-billed parrot', 'red-rumped parrot', 'golden parakeet', 'puerto rican ama...', 'rosy-faced lovebird', 'kea', 'orange-winged amazon', 'green rosella', 'hispaniolan amazon', 'saint vincent a...', 'vernal hanging p...', 'orange-bellied parrot', 'yellow-naped amazon', 'pacific parrotlet', 'kākāpō', 'palm cockatoo', 'yellow-faced parrot', 'australian king parrot', 'chestnut-fronted macaw', 'galah', 'green parakeet', 'blue-crowned parakeet', 'yellow-headed amazon', 'blue-headed parrot', 'red-fan parrot', 'military macaw', 'eastern ground pa...', 'red-crowned parakeet', 'blue lorikeet', 'golden-winged parakeet']\n"
     ]
    }
   ],
   "source": [
    "parrots = []\n",
    "for i in range(51):\n",
    "  parrots.append(tables[i].text.lower())\n",
    "  # print(tables[i].text)\n",
    "  # print()\n",
    "\n",
    "print()\n",
    "print()\n",
    "print()\n",
    "print(parrots)"
   ]
  },
  {
   "cell_type": "code",
   "execution_count": 57,
   "metadata": {
    "colab": {
     "base_uri": "https://localhost:8080/"
    },
    "id": "JyBJhPXOKCXs",
    "outputId": "9f112e2e-3acb-4dcc-c96b-90fd05c3949b"
   },
   "outputs": [
    {
     "data": {
      "text/plain": [
       "51"
      ]
     },
     "execution_count": 57,
     "metadata": {},
     "output_type": "execute_result"
    }
   ],
   "source": [
    "len(parrots)"
   ]
  },
  {
   "cell_type": "code",
   "execution_count": 58,
   "metadata": {},
   "outputs": [
    {
     "name": "stdout",
     "output_type": "stream",
     "text": [
      "puerto rican ama...\n",
      "saint vincent a...\n",
      "vernal hanging p...\n",
      "eastern ground pa...\n",
      "\n",
      "4\n"
     ]
    }
   ],
   "source": [
    "c = 0\n",
    "for i in parrots:\n",
    "    if i[-3:] == \"...\":\n",
    "        print(i)\n",
    "        c += 1\n",
    "print()\n",
    "print(c)"
   ]
  },
  {
   "cell_type": "code",
   "execution_count": 59,
   "metadata": {
    "colab": {
     "base_uri": "https://localhost:8080/"
    },
    "id": "-hwUKoK2cNlF",
    "outputId": "87e7f7b1-26d4-4110-f9c5-ec82e7d70cfe"
   },
   "outputs": [
    {
     "name": "stdout",
     "output_type": "stream",
     "text": [
      "puerto rican ama... 24\n",
      "saint vincent a... 30\n",
      "vernal hanging p... 31\n",
      "eastern ground pa... 47\n"
     ]
    }
   ],
   "source": [
    "for i in parrots:\n",
    "  if i[-3:] == \"...\":\n",
    "    x = parrots.index(i)\n",
    "    print(i, x)\n",
    "\n",
    "    if i == \"puerto rican ama...\":\n",
    "      parrots[parrots.index(i)] = parrots[parrots.index(i)].replace(\"puerto rican ama...\", \"puerto rican amazon\")\n",
    "      # print(parrots[x])\n",
    "    elif i == \"saint vincent a...\":\n",
    "      parrots[parrots.index(i)] = parrots[parrots.index(i)].replace(\"saint vincent a...\", \"saint vincent amazon\")\n",
    "      # print(parrots[x])\n",
    "    elif i == \"southern mealy am...\":\n",
    "      parrots[parrots.index(i)] = parrots[parrots.index(i)].replace(\"southern mealy am...\", \"southern mealy amazon\")\n",
    "      # print(parrots[x])\n",
    "    elif i == \"new caledonia...\":\n",
    "      parrots[parrots.index(i)] = parrots[parrots.index(i)].replace(\"new caledonia...\", \"new caledonian lorikeet\")\n",
    "      # print(parrots[x])\n",
    "    elif i == \"vernal hanging p...\":\n",
    "      parrots[parrots.index(i)] = parrots[parrots.index(i)].replace(\"vernal hanging p...\", \"vernal hanging parrot\")\n",
    "      # print(parrots[x])\n",
    "    elif i == \"eastern ground pa...\":\n",
    "      parrots[parrots.index(i)] = parrots[parrots.index(i)].replace(\"eastern ground pa...\", \"eastern ground parrot\")\n",
    "      # print(parrots[x])"
   ]
  },
  {
   "cell_type": "code",
   "execution_count": 60,
   "metadata": {
    "colab": {
     "base_uri": "https://localhost:8080/"
    },
    "id": "INrbOPOtA1dl",
    "outputId": "e6c0826a-cbee-477a-9949-0ed54150d423"
   },
   "outputs": [
    {
     "name": "stdout",
     "output_type": "stream",
     "text": [
      "grey parrot\n",
      "cockatiel\n",
      "budgerigar\n",
      "moluccan eclectus\n",
      "hyacinth macaw\n",
      "blue-and-yellow macaw\n",
      "rose-ringed parakeet\n",
      "scarlet macaw\n",
      "monk parakeet\n",
      "sun conure\n",
      "rainbow lorikeet\n",
      "senegal parrot\n",
      "turquoise-fronted amazon\n",
      "sulphur-crested cockatoo\n",
      "burrowing parrot\n",
      "lilac-crowned amazon\n",
      "red-crowned amazon\n",
      "red-and-green macaw\n",
      "carolina parakeet\n",
      "yellow-crowned amazon\n",
      "cuban amazon\n",
      "thick-billed parrot\n",
      "red-rumped parrot\n",
      "golden parakeet\n",
      "puerto rican amazon\n",
      "rosy-faced lovebird\n",
      "kea\n",
      "orange-winged amazon\n",
      "green rosella\n",
      "hispaniolan amazon\n",
      "saint vincent amazon\n",
      "vernal hanging parrot\n",
      "orange-bellied parrot\n",
      "yellow-naped amazon\n",
      "pacific parrotlet\n",
      "kākāpō\n",
      "palm cockatoo\n",
      "yellow-faced parrot\n",
      "australian king parrot\n",
      "chestnut-fronted macaw\n",
      "galah\n",
      "green parakeet\n",
      "blue-crowned parakeet\n",
      "yellow-headed amazon\n",
      "blue-headed parrot\n",
      "red-fan parrot\n",
      "military macaw\n",
      "eastern ground parrot\n",
      "red-crowned parakeet\n",
      "blue lorikeet\n",
      "golden-winged parakeet\n"
     ]
    }
   ],
   "source": [
    "for i in parrots:\n",
    "  print(i)"
   ]
  },
  {
   "cell_type": "code",
   "execution_count": 61,
   "metadata": {
    "colab": {
     "base_uri": "https://localhost:8080/"
    },
    "id": "Dc4Hf1PRAKE9",
    "outputId": "291fe282-6bff-4635-bc8e-034de5b91556"
   },
   "outputs": [],
   "source": [
    "for i in parrots:\n",
    "  if i[-3:] == \"...\":\n",
    "    print(i, parrots.index(i))"
   ]
  },
  {
   "cell_type": "code",
   "execution_count": 62,
   "metadata": {
    "id": "3NHw33t6cNg-"
   },
   "outputs": [],
   "source": [
    "# for i in range(51):\n",
    "#   print(tables[i].text)\n",
    "#   print()"
   ]
  },
  {
   "cell_type": "code",
   "execution_count": 63,
   "metadata": {
    "colab": {
     "base_uri": "https://localhost:8080/"
    },
    "id": "daY2vwk_cNbu",
    "outputId": "3145446d-8ee7-42a7-9e3e-ad6b14bd1b90"
   },
   "outputs": [
    {
     "data": {
      "text/plain": [
       "['australian king parrot',\n",
       " 'blue lorikeet',\n",
       " 'blue-and-yellow macaw',\n",
       " 'blue-crowned parakeet',\n",
       " 'blue-headed parrot',\n",
       " 'budgerigar',\n",
       " 'burrowing parrot',\n",
       " 'carolina parakeet',\n",
       " 'chestnut-fronted macaw',\n",
       " 'cockatiel',\n",
       " 'cuban amazon',\n",
       " 'eastern ground parrot',\n",
       " 'galah',\n",
       " 'golden parakeet',\n",
       " 'golden-winged parakeet',\n",
       " 'green parakeet',\n",
       " 'green rosella',\n",
       " 'grey parrot',\n",
       " 'hispaniolan amazon',\n",
       " 'hyacinth macaw',\n",
       " 'kea',\n",
       " 'kākāpō',\n",
       " 'lilac-crowned amazon',\n",
       " 'military macaw',\n",
       " 'moluccan eclectus',\n",
       " 'monk parakeet',\n",
       " 'orange-bellied parrot',\n",
       " 'orange-winged amazon',\n",
       " 'pacific parrotlet',\n",
       " 'palm cockatoo',\n",
       " 'puerto rican amazon',\n",
       " 'rainbow lorikeet',\n",
       " 'red-and-green macaw',\n",
       " 'red-crowned amazon',\n",
       " 'red-crowned parakeet',\n",
       " 'red-fan parrot',\n",
       " 'red-rumped parrot',\n",
       " 'rose-ringed parakeet',\n",
       " 'rosy-faced lovebird',\n",
       " 'saint vincent amazon',\n",
       " 'scarlet macaw',\n",
       " 'senegal parrot',\n",
       " 'sulphur-crested cockatoo',\n",
       " 'sun conure',\n",
       " 'thick-billed parrot',\n",
       " 'turquoise-fronted amazon',\n",
       " 'vernal hanging parrot',\n",
       " 'yellow-crowned amazon',\n",
       " 'yellow-faced parrot',\n",
       " 'yellow-headed amazon',\n",
       " 'yellow-naped amazon']"
      ]
     },
     "execution_count": 63,
     "metadata": {},
     "output_type": "execute_result"
    }
   ],
   "source": [
    "parrots.sort()\n",
    "parrots"
   ]
  },
  {
   "cell_type": "code",
   "execution_count": 64,
   "metadata": {},
   "outputs": [
    {
     "data": {
      "text/plain": [
       "51"
      ]
     },
     "execution_count": 64,
     "metadata": {},
     "output_type": "execute_result"
    }
   ],
   "source": [
    "len(parrots)"
   ]
  },
  {
   "cell_type": "code",
   "execution_count": 65,
   "metadata": {
    "colab": {
     "base_uri": "https://localhost:8080/"
    },
    "id": "B8h9W2iAcNZl",
    "outputId": "70ee4614-07af-4a28-c89a-b074b5e89a0a"
   },
   "outputs": [
    {
     "name": "stdout",
     "output_type": "stream",
     "text": [
      "['1. african grey parrots' '1. amazon parrot' '2. caique parrot'\n",
      " '2. cockatoos' '3. african grey parrots:' '4. cockatoo' '4. parrotlet'\n",
      " '5. conure parrot' '6. eclectus parrot' '6. senegal parrot'\n",
      " '8 top colorful parrot species' '8. eclectus parrots.'\n",
      " '8. eclectus parrots.the 20 types of parrots to...' 'amazon parrots'\n",
      " 'and cockatoos belong to the order psittaciformes. they come in various shapes and sizes'\n",
      " 'blue parrot species range from small to very large in size and come in powdery light blues to deep indigos. some of these birds simply have flashy blue markings\\xa0...'\n",
      " 'burrowing parrot' 'cockatoos' 'companion parrot' 'feral parrot'\n",
      " 'feral parrotorder: psittaciformes; wagler' 'list of parrots'\n",
      " 'list of top 15 parrot types:' 'parakeets,\\xa0...list of parrots'\n",
      " 'parrot species that are commonly kept as pets include conures' 'parrots'\n",
      " 'parrots such as parakeets' 'senegal parrot'\n",
      " 'the 20 types of parrots to...'\n",
      " 'the many types of parrots ; small parrots. cockatiels. lovebirds ; medium parrots. caiques. small conures ; large parrots. african greys. amazons\\xa0...'\n",
      " 'the “true” parrots' 'true parrot' 'true parrots']\n"
     ]
    }
   ],
   "source": [
    "c = 0\n",
    "rem = []\n",
    "for i in tables[51:-4]:\n",
    "  # print(i.text)\n",
    "  # x = i.text.split(\" · \")\n",
    "  # print(x)\n",
    "  # x = i.text.split(\", \")\n",
    "  # print(x)\n",
    "  i = i.text.lower()\n",
    "  x = i.split(\"\"\"<span class=\"BNeawe\">\"\"\")\n",
    "  # print(x)\n",
    "\n",
    "  for j in x:\n",
    "    y = j.split(\", \")\n",
    "    # print(y)\n",
    "\n",
    "    for k in y:\n",
    "      z = k.split(\" · \")\n",
    "      #print(z)\n",
    "\n",
    "      for a in z:\n",
    "        if \"cockatoo\" in a or \"parrot\" in a:\n",
    "          for p in parrots:\n",
    "            if p not in a:\n",
    "              rem.append(a)\n",
    "\n",
    "  # print()\n",
    "\n",
    "\n",
    "#print(rem)\n",
    "rem = np.unique(rem)\n",
    "print(rem)\n",
    "\n",
    "# for i in rem:\n",
    "#   print(i)\n",
    "\n",
    "  # if i.text not in parrots:\n",
    "  #   c += 1\n",
    "  #   if c > 4:\n",
    "  #     print(i.text)"
   ]
  },
  {
   "cell_type": "code",
   "execution_count": 66,
   "metadata": {
    "colab": {
     "base_uri": "https://localhost:8080/"
    },
    "id": "8lKPIlBkKTcc",
    "outputId": "76cff3f4-5e11-46c4-db34-69650698f94e"
   },
   "outputs": [
    {
     "name": "stdout",
     "output_type": "stream",
     "text": [
      "1. african grey parrots\n",
      "1. amazon parrot\n",
      "2. caique parrot\n",
      "2. cockatoos\n",
      "3. african grey parrots:\n",
      "4. cockatoo\n",
      "4. parrotlet\n",
      "5. conure parrot\n",
      "6. eclectus parrot\n",
      "6. senegal parrot\n",
      "8 top colorful parrot species\n",
      "8. eclectus parrots.\n",
      "8. eclectus parrots.the 20 types of parrots to...\n",
      "amazon parrots\n",
      "and cockatoos belong to the order psittaciformes. they come in various shapes and sizes\n",
      "blue parrot species range from small to very large in size and come in powdery light blues to deep indigos. some of these birds simply have flashy blue markings ...\n",
      "burrowing parrot\n",
      "cockatoos\n",
      "companion parrot\n",
      "feral parrot\n",
      "feral parrotorder: psittaciformes; wagler\n",
      "list of parrots\n",
      "list of top 15 parrot types:\n",
      "parakeets, ...list of parrots\n",
      "parrot species that are commonly kept as pets include conures\n",
      "parrots\n",
      "parrots such as parakeets\n",
      "senegal parrot\n",
      "the 20 types of parrots to...\n",
      "the many types of parrots ; small parrots. cockatiels. lovebirds ; medium parrots. caiques. small conures ; large parrots. african greys. amazons ...\n",
      "the “true” parrots\n",
      "true parrot\n",
      "true parrots\n"
     ]
    }
   ],
   "source": [
    "for i in rem:\n",
    "  print(i)"
   ]
  },
  {
   "cell_type": "code",
   "execution_count": 100,
   "metadata": {
    "id": "ij1NkaEuKTaH"
   },
   "outputs": [],
   "source": [
    "newP = []\n",
    "for i in rem:\n",
    "  #print(i)\n",
    "\n",
    "  if i in parrots: pass\n",
    "\n",
    "  elif \"true parrots\" in i or \"true\" in i or \"order\" in i or \"shapes\" in i or \"video\" in i or i == \"true parrots\" or \"guides\" in i: pass\n",
    "\n",
    "  elif  \"enicognathus ferrugineus\" in i: newP.append(\"austral parakeet\")\n",
    "\n",
    "  elif \". \" in i:\n",
    "    x = i.split(\". \")\n",
    "    #print(x)\n",
    "    for j in x:\n",
    "      y = j.split(\".\")\n",
    "      for k in y:\n",
    "        if \"true parrots\" in k or \"true\" in k or \"type\" in k or \"order\" in k  or \"shapes\" in k or \"species\" in k or \"simply\" in k or \"video\" in k or k == \"true parrots\" : pass\n",
    "        elif k not in parrots and k not in newP:\n",
    "\n",
    "          try: k = int(k)\n",
    "          except: newP.append(k)\n",
    "\n",
    "  elif i[-6:] == 'parrot' or i[-8:] == 'cockatoo': newP.append(i)\n",
    "\n",
    "  elif i[-3:] == '...' and i[:3] != 'the': newP.append(i[:-4])\n",
    "\n",
    "  elif \" ; \" in i and i[-3:] == \"...\" :\n",
    "    b = i.split(\" ; \")\n",
    "    # print(\"==============\")\n",
    "    # print(x)\n",
    "    # print(\"==============\")\n",
    "    newP.append(b[0])\n",
    "\n",
    "  # print()\n",
    "\n"
   ]
  },
  {
   "cell_type": "code",
   "execution_count": 101,
   "metadata": {
    "colab": {
     "base_uri": "https://localhost:8080/"
    },
    "id": "71CvFaTR-cjR",
    "outputId": "9ce42a43-4022-4e5c-f913-ceb0c2ca84f3"
   },
   "outputs": [
    {
     "name": "stdout",
     "output_type": "stream",
     "text": [
      "lovebirds ; medium parrots\n",
      "['lovebirds', 'medium parrots']\n",
      "lovebirds\n",
      "small conures ; large parrots\n",
      "['small conures', 'large parrots']\n",
      "small conures\n"
     ]
    }
   ],
   "source": [
    "for i in newP:\n",
    "  if \";\" in i:\n",
    "    print(i)\n",
    "    x = i.split(\" ; \")\n",
    "    print(x)\n",
    "    newP[newP.index(i)] = newP[newP.index(i)].replace(i, x[0])\n",
    "    print(newP[newP.index(x[0])])\n"
   ]
  },
  {
   "cell_type": "code",
   "execution_count": 102,
   "metadata": {},
   "outputs": [
    {
     "name": "stdout",
     "output_type": "stream",
     "text": [
      "african grey parrots\n",
      "amazon parrot\n",
      "caique parrot\n",
      "cockatoos\n",
      "african grey parrots:\n",
      "cockatoo\n",
      "parrotlet\n",
      "conure parrot\n",
      "eclectus parrot\n",
      "eclectus parrots\n",
      "\n",
      "companion parrot\n",
      "feral parrot\n",
      "cockatiels\n",
      "lovebirds\n",
      "caiques\n",
      "small conures\n",
      "african greys\n",
      "amazons \n"
     ]
    }
   ],
   "source": [
    "for i in newP:\n",
    "  print(i)"
   ]
  },
  {
   "cell_type": "code",
   "execution_count": 103,
   "metadata": {},
   "outputs": [],
   "source": [
    "for i in newP:\n",
    "  if \";\" in i:\n",
    "    print(i)\n",
    "    x = i.split(\" ; \")\n",
    "    print(x)\n",
    "    newP[newP.index(i)] = newP[newP.index(i)].replace(i, x[0])\n",
    "    print(newP[newP.index(x[0])])\n"
   ]
  },
  {
   "cell_type": "code",
   "execution_count": 104,
   "metadata": {
    "colab": {
     "base_uri": "https://localhost:8080/"
    },
    "id": "AonzMaYn-cg8",
    "outputId": "ef2ae06b-d196-4df2-f84a-464c3989f451"
   },
   "outputs": [
    {
     "name": "stdout",
     "output_type": "stream",
     "text": [
      "\n",
      "african grey parrots\n",
      "african grey parrots:\n",
      "african greys\n",
      "amazon parrot\n",
      "amazons \n",
      "caique parrot\n",
      "caiques\n",
      "cockatiels\n",
      "cockatoo\n",
      "cockatoos\n",
      "companion parrot\n",
      "conure parrot\n",
      "eclectus parrot\n",
      "eclectus parrots\n",
      "feral parrot\n",
      "lovebirds\n",
      "parrotlet\n",
      "small conures\n"
     ]
    }
   ],
   "source": [
    "newP.sort()\n",
    "for i in newP:\n",
    "  print(i)\n"
   ]
  },
  {
   "cell_type": "code",
   "execution_count": null,
   "metadata": {},
   "outputs": [],
   "source": []
  },
  {
   "cell_type": "code",
   "execution_count": 108,
   "metadata": {
    "colab": {
     "base_uri": "https://localhost:8080/"
    },
    "id": "4V6nXbNP-ce1",
    "outputId": "fec03cdc-88e5-4cc3-8a7c-01b187d8d72d"
   },
   "outputs": [
    {
     "data": {
      "text/plain": [
       "['caique parrot',\n",
       " 'caiques',\n",
       " 'cockatiels',\n",
       " 'cockatoos',\n",
       " 'conure parrot',\n",
       " 'eclectus parrot',\n",
       " 'feral parrot',\n",
       " 'lovebirds',\n",
       " 'parrotlet',\n",
       " 'small conures']"
      ]
     },
     "execution_count": 108,
     "metadata": {},
     "output_type": "execute_result"
    }
   ],
   "source": [
    "for i in newP:\n",
    "  \n",
    "  if i == '':\n",
    "    newP.remove(i)\n",
    "  elif i == 'amazons\\xa0':\n",
    "    newP.remove(i)\n",
    "  elif i == 'amazon':\n",
    "    newP.remove(i)\n",
    "  elif i == 'amazon parrot':\n",
    "    newP.remove(i)\n",
    "  elif i == 'amazon parrots':\n",
    "    newP.remove(i)\n",
    "  elif i == 'african grey parrots':\n",
    "    newP.remove(i)\n",
    "  elif i == 'cockatoo':\n",
    "    newP.remove(i)\n",
    "  elif i == 'african grey parrots:':\n",
    "    newP.remove(i)\n",
    "  elif i == 'african greys':\n",
    "    newP.remove(i)\n",
    "  elif i == 'african greys':\n",
    "    newP.remove(i)\n",
    "  elif i == 'companion parrot':\n",
    "    newP.remove(i)\n",
    "  elif i == 'true parrot':\n",
    "    newP.remove(i)\n",
    "  elif i == 'eclectus parrots':\n",
    "    newP.remove(i)\n",
    "\n",
    "\n",
    "\n",
    "newP"
   ]
  },
  {
   "cell_type": "markdown",
   "metadata": {
    "id": "YOPITPgYwpwY"
   },
   "source": [
    "# Final classes"
   ]
  },
  {
   "cell_type": "code",
   "execution_count": 109,
   "metadata": {
    "colab": {
     "base_uri": "https://localhost:8080/"
    },
    "id": "JISmli7bT0Rr",
    "outputId": "8b195b92-c6fe-4e00-c8a6-93ab2192db9c"
   },
   "outputs": [
    {
     "data": {
      "text/plain": [
       "['australian king parrot',\n",
       " 'blue lorikeet',\n",
       " 'blue-and-yellow macaw',\n",
       " 'blue-crowned parakeet',\n",
       " 'blue-headed parrot',\n",
       " 'budgerigar',\n",
       " 'burrowing parrot',\n",
       " 'caique parrot',\n",
       " 'caiques',\n",
       " 'carolina parakeet',\n",
       " 'chestnut-fronted macaw',\n",
       " 'cockatiel',\n",
       " 'cockatiels',\n",
       " 'cockatoos',\n",
       " 'conure parrot',\n",
       " 'cuban amazon',\n",
       " 'eastern ground parrot',\n",
       " 'eclectus parrot',\n",
       " 'feral parrot',\n",
       " 'galah',\n",
       " 'golden parakeet',\n",
       " 'golden-winged parakeet',\n",
       " 'green parakeet',\n",
       " 'green rosella',\n",
       " 'grey parrot',\n",
       " 'hispaniolan amazon',\n",
       " 'hyacinth macaw',\n",
       " 'kea',\n",
       " 'kākāpō',\n",
       " 'lilac-crowned amazon',\n",
       " 'lovebirds',\n",
       " 'military macaw',\n",
       " 'moluccan eclectus',\n",
       " 'monk parakeet',\n",
       " 'orange-bellied parrot',\n",
       " 'orange-winged amazon',\n",
       " 'pacific parrotlet',\n",
       " 'palm cockatoo',\n",
       " 'parrotlet',\n",
       " 'puerto rican amazon',\n",
       " 'rainbow lorikeet',\n",
       " 'red-and-green macaw',\n",
       " 'red-crowned amazon',\n",
       " 'red-crowned parakeet',\n",
       " 'red-fan parrot',\n",
       " 'red-rumped parrot',\n",
       " 'rose-ringed parakeet',\n",
       " 'rosy-faced lovebird',\n",
       " 'saint vincent amazon',\n",
       " 'scarlet macaw',\n",
       " 'senegal parrot',\n",
       " 'small conures',\n",
       " 'sulphur-crested cockatoo',\n",
       " 'sun conure',\n",
       " 'thick-billed parrot',\n",
       " 'turquoise-fronted amazon',\n",
       " 'vernal hanging parrot',\n",
       " 'yellow-crowned amazon',\n",
       " 'yellow-faced parrot',\n",
       " 'yellow-headed amazon',\n",
       " 'yellow-naped amazon']"
      ]
     },
     "execution_count": 109,
     "metadata": {},
     "output_type": "execute_result"
    }
   ],
   "source": [
    "parrtos = parrots.extend(newP)\n",
    "parrots.sort()\n",
    "parrots"
   ]
  },
  {
   "cell_type": "code",
   "execution_count": 110,
   "metadata": {
    "colab": {
     "base_uri": "https://localhost:8080/"
    },
    "id": "vAMR0oBTsqP_",
    "outputId": "f9cdb8e6-be20-4386-f57a-9b8e31d4d224"
   },
   "outputs": [
    {
     "data": {
      "text/plain": [
       "61"
      ]
     },
     "execution_count": 110,
     "metadata": {},
     "output_type": "execute_result"
    }
   ],
   "source": [
    "len(parrots)"
   ]
  },
  {
   "cell_type": "markdown",
   "metadata": {
    "id": "DMBk0RStZfnx"
   },
   "source": [
    "**Final Classes**"
   ]
  },
  {
   "cell_type": "code",
   "execution_count": 111,
   "metadata": {
    "colab": {
     "base_uri": "https://localhost:8080/"
    },
    "id": "eJxhMecIT-Q3",
    "outputId": "cd38e68d-2848-462e-8975-6f7a438451e0"
   },
   "outputs": [
    {
     "name": "stdout",
     "output_type": "stream",
     "text": [
      "1. australian king parrot\n",
      "2. blue lorikeet\n",
      "3. blue-and-yellow macaw\n",
      "4. blue-crowned parakeet\n",
      "5. blue-headed parrot\n",
      "6. budgerigar\n",
      "7. burrowing parrot\n",
      "8. caique parrot\n",
      "9. caiques\n",
      "10. carolina parakeet\n",
      "11. chestnut-fronted macaw\n",
      "12. cockatiel\n",
      "13. cockatiels\n",
      "14. cockatoos\n",
      "15. conure parrot\n",
      "16. cuban amazon\n",
      "17. eastern ground parrot\n",
      "18. eclectus parrot\n",
      "19. feral parrot\n",
      "20. galah\n",
      "21. golden parakeet\n",
      "22. golden-winged parakeet\n",
      "23. green parakeet\n",
      "24. green rosella\n",
      "25. grey parrot\n",
      "26. hispaniolan amazon\n",
      "27. hyacinth macaw\n",
      "28. kea\n",
      "29. kākāpō\n",
      "30. lilac-crowned amazon\n",
      "31. lovebirds\n",
      "32. military macaw\n",
      "33. moluccan eclectus\n",
      "34. monk parakeet\n",
      "35. orange-bellied parrot\n",
      "36. orange-winged amazon\n",
      "37. pacific parrotlet\n",
      "38. palm cockatoo\n",
      "39. parrotlet\n",
      "40. puerto rican amazon\n",
      "41. rainbow lorikeet\n",
      "42. red-and-green macaw\n",
      "43. red-crowned amazon\n",
      "44. red-crowned parakeet\n",
      "45. red-fan parrot\n",
      "46. red-rumped parrot\n",
      "47. rose-ringed parakeet\n",
      "48. rosy-faced lovebird\n",
      "49. saint vincent amazon\n",
      "50. scarlet macaw\n",
      "51. senegal parrot\n",
      "52. small conures\n",
      "53. sulphur-crested cockatoo\n",
      "54. sun conure\n",
      "55. thick-billed parrot\n",
      "56. turquoise-fronted amazon\n",
      "57. vernal hanging parrot\n",
      "58. yellow-crowned amazon\n",
      "59. yellow-faced parrot\n",
      "60. yellow-headed amazon\n",
      "61. yellow-naped amazon\n"
     ]
    }
   ],
   "source": [
    "for i in range(0, len(parrots)):\n",
    "  print(f\"{i+1}. {parrots[i]}\")"
   ]
  },
  {
   "cell_type": "code",
   "execution_count": null,
   "metadata": {},
   "outputs": [],
   "source": []
  },
  {
   "cell_type": "code",
   "execution_count": 112,
   "metadata": {},
   "outputs": [],
   "source": [
    "# # parrots.remove('australian king parrot')\n",
    "# # parrots.remove('blue lorikeet')\n",
    "# # parrots.remove('blue-and-yellow macaw')\n",
    "# # parrots.remove('blue-crowned parakeet')\n",
    "# parrots.remove('budgerigar')\n",
    "# parrots.remove('blue-headed parrot')\n",
    "# parrots.remove('burrowing parrot')\n"
   ]
  },
  {
   "cell_type": "code",
   "execution_count": 113,
   "metadata": {},
   "outputs": [
    {
     "name": "stdout",
     "output_type": "stream",
     "text": [
      "1. australian king parrot\n",
      "2. blue lorikeet\n",
      "3. blue-and-yellow macaw\n",
      "4. blue-crowned parakeet\n",
      "5. blue-headed parrot\n",
      "6. budgerigar\n",
      "7. burrowing parrot\n",
      "8. caique parrot\n",
      "9. caiques\n",
      "10. carolina parakeet\n",
      "11. chestnut-fronted macaw\n",
      "12. cockatiel\n",
      "13. cockatiels\n",
      "14. cockatoos\n",
      "15. conure parrot\n",
      "16. cuban amazon\n",
      "17. eastern ground parrot\n",
      "18. eclectus parrot\n",
      "19. feral parrot\n",
      "20. galah\n",
      "21. golden parakeet\n",
      "22. golden-winged parakeet\n",
      "23. green parakeet\n",
      "24. green rosella\n",
      "25. grey parrot\n",
      "26. hispaniolan amazon\n",
      "27. hyacinth macaw\n",
      "28. kea\n",
      "29. kākāpō\n",
      "30. lilac-crowned amazon\n",
      "31. lovebirds\n",
      "32. military macaw\n",
      "33. moluccan eclectus\n",
      "34. monk parakeet\n",
      "35. orange-bellied parrot\n",
      "36. orange-winged amazon\n",
      "37. pacific parrotlet\n",
      "38. palm cockatoo\n",
      "39. parrotlet\n",
      "40. puerto rican amazon\n",
      "41. rainbow lorikeet\n",
      "42. red-and-green macaw\n",
      "43. red-crowned amazon\n",
      "44. red-crowned parakeet\n",
      "45. red-fan parrot\n",
      "46. red-rumped parrot\n",
      "47. rose-ringed parakeet\n",
      "48. rosy-faced lovebird\n",
      "49. saint vincent amazon\n",
      "50. scarlet macaw\n",
      "51. senegal parrot\n",
      "52. small conures\n",
      "53. sulphur-crested cockatoo\n",
      "54. sun conure\n",
      "55. thick-billed parrot\n",
      "56. turquoise-fronted amazon\n",
      "57. vernal hanging parrot\n",
      "58. yellow-crowned amazon\n",
      "59. yellow-faced parrot\n",
      "60. yellow-headed amazon\n",
      "61. yellow-naped amazon\n"
     ]
    }
   ],
   "source": [
    "for i in range(0, len(parrots)):\n",
    "  print(f\"{i+1}. {parrots[i]}\")"
   ]
  },
  {
   "cell_type": "code",
   "execution_count": 119,
   "metadata": {},
   "outputs": [
    {
     "data": {
      "text/plain": [
       "array(['australian king parrot', 'blue lorikeet', 'blue-and-yellow macaw', 'blue-crowned parakeet', 'blue-headed parrot', 'budgerigar', 'burrowing parrot', 'caique parrot', 'caiques',\n",
       "       'carolina parakeet', 'chestnut-fronted macaw', 'cockatiel', 'cockatiels', 'cockatoos', 'conure parrot', 'cuban amazon', 'eastern ground parrot', 'eclectus parrot', 'feral parrot', 'galah',\n",
       "       'golden parakeet', 'golden-winged parakeet', 'green parakeet', 'green rosella', 'grey parrot', 'hispaniolan amazon', 'hyacinth macaw', 'kea', 'kākāpō', 'lilac-crowned amazon', 'lovebirds',\n",
       "       'military macaw', 'moluccan eclectus', 'monk parakeet', 'orange-bellied parrot', 'orange-winged amazon', 'pacific parrotlet', 'palm cockatoo', 'parrotlet', 'puerto rican amazon',\n",
       "       'rainbow lorikeet', 'red-and-green macaw', 'red-crowned amazon', 'red-crowned parakeet', 'red-fan parrot', 'red-rumped parrot', 'rose-ringed parakeet', 'rosy-faced lovebird',\n",
       "       'saint vincent amazon', 'scarlet macaw', 'senegal parrot', 'small conures', 'sulphur-crested cockatoo', 'sun conure', 'thick-billed parrot', 'turquoise-fronted amazon',\n",
       "       'vernal hanging parrot', 'yellow-crowned amazon', 'yellow-faced parrot', 'yellow-headed amazon', 'yellow-naped amazon'], dtype='<U24')"
      ]
     },
     "execution_count": 119,
     "metadata": {},
     "output_type": "execute_result"
    }
   ],
   "source": [
    "import numpy as np\n",
    "\n",
    "parrots = np.array(parrots)\n",
    "parrots = np.unique(parrots)\n",
    "parrots"
   ]
  },
  {
   "cell_type": "code",
   "execution_count": 120,
   "metadata": {},
   "outputs": [
    {
     "name": "stdout",
     "output_type": "stream",
     "text": [
      "australian king parrot\n",
      "blue lorikeet\n",
      "blue-and-yellow macaw\n",
      "blue-crowned parakeet\n",
      "blue-headed parrot\n",
      "budgerigar\n",
      "burrowing parrot\n",
      "caique parrot\n",
      "caiques\n",
      "carolina parakeet\n",
      "chestnut-fronted macaw\n",
      "cockatiel\n",
      "cockatiels\n",
      "cockatoos\n",
      "conure parrot\n",
      "cuban amazon\n",
      "eastern ground parrot\n",
      "eclectus parrot\n",
      "feral parrot\n",
      "galah\n",
      "golden parakeet\n",
      "golden-winged parakeet\n",
      "green parakeet\n",
      "green rosella\n",
      "grey parrot\n",
      "hispaniolan amazon\n",
      "hyacinth macaw\n",
      "kea\n",
      "kākāpō\n",
      "lilac-crowned amazon\n",
      "lovebirds\n",
      "military macaw\n",
      "moluccan eclectus\n",
      "monk parakeet\n",
      "orange-bellied parrot\n",
      "orange-winged amazon\n",
      "pacific parrotlet\n",
      "palm cockatoo\n",
      "parrotlet\n",
      "puerto rican amazon\n",
      "rainbow lorikeet\n",
      "red-and-green macaw\n",
      "red-crowned amazon\n",
      "red-crowned parakeet\n",
      "red-fan parrot\n",
      "red-rumped parrot\n",
      "rose-ringed parakeet\n",
      "rosy-faced lovebird\n",
      "saint vincent amazon\n",
      "scarlet macaw\n",
      "senegal parrot\n",
      "small conures\n",
      "sulphur-crested cockatoo\n",
      "sun conure\n",
      "thick-billed parrot\n",
      "turquoise-fronted amazon\n",
      "vernal hanging parrot\n",
      "yellow-crowned amazon\n",
      "yellow-faced parrot\n",
      "yellow-headed amazon\n",
      "yellow-naped amazon\n"
     ]
    }
   ],
   "source": [
    "for i in parrots:\n",
    "  print(i)"
   ]
  },
  {
   "cell_type": "code",
   "execution_count": 121,
   "metadata": {},
   "outputs": [
    {
     "data": {
      "text/plain": [
       "61"
      ]
     },
     "execution_count": 121,
     "metadata": {},
     "output_type": "execute_result"
    }
   ],
   "source": [
    "parrots = list(parrots)\n",
    "len(parrots)"
   ]
  },
  {
   "cell_type": "code",
   "execution_count": 123,
   "metadata": {},
   "outputs": [
    {
     "data": {
      "text/plain": [
       "['australian king parrot',\n",
       " 'blue lorikeet',\n",
       " 'blue-and-yellow macaw',\n",
       " 'blue-crowned parakeet',\n",
       " 'blue-headed parrot',\n",
       " 'budgerigar',\n",
       " 'burrowing parrot',\n",
       " 'caique parrot',\n",
       " 'caiques',\n",
       " 'carolina parakeet',\n",
       " 'chestnut-fronted macaw',\n",
       " 'cockatiel',\n",
       " 'cockatiels',\n",
       " 'cockatoos',\n",
       " 'conure parrot',\n",
       " 'cuban amazon',\n",
       " 'eastern ground parrot',\n",
       " 'eclectus parrot',\n",
       " 'feral parrot',\n",
       " 'galah',\n",
       " 'golden parakeet',\n",
       " 'golden-winged parakeet',\n",
       " 'green parakeet',\n",
       " 'green rosella',\n",
       " 'grey parrot',\n",
       " 'hispaniolan amazon',\n",
       " 'hyacinth macaw',\n",
       " 'kea',\n",
       " 'kākāpō',\n",
       " 'lilac-crowned amazon',\n",
       " 'lovebirds',\n",
       " 'military macaw',\n",
       " 'moluccan eclectus',\n",
       " 'monk parakeet',\n",
       " 'orange-bellied parrot',\n",
       " 'orange-winged amazon',\n",
       " 'pacific parrotlet',\n",
       " 'palm cockatoo',\n",
       " 'parrotlet',\n",
       " 'puerto rican amazon',\n",
       " 'rainbow lorikeet',\n",
       " 'red-and-green macaw',\n",
       " 'red-crowned amazon',\n",
       " 'red-crowned parakeet',\n",
       " 'red-fan parrot',\n",
       " 'red-rumped parrot',\n",
       " 'rose-ringed parakeet',\n",
       " 'rosy-faced lovebird',\n",
       " 'saint vincent amazon',\n",
       " 'scarlet macaw',\n",
       " 'senegal parrot',\n",
       " 'small conures',\n",
       " 'sulphur-crested cockatoo',\n",
       " 'sun conure',\n",
       " 'thick-billed parrot',\n",
       " 'turquoise-fronted amazon',\n",
       " 'vernal hanging parrot',\n",
       " 'yellow-crowned amazon',\n",
       " 'yellow-faced parrot',\n",
       " 'yellow-headed amazon',\n",
       " 'yellow-naped amazon']"
      ]
     },
     "execution_count": 123,
     "metadata": {},
     "output_type": "execute_result"
    }
   ],
   "source": [
    "parrots"
   ]
  },
  {
   "cell_type": "code",
   "execution_count": 124,
   "metadata": {},
   "outputs": [
    {
     "name": "stdout",
     "output_type": "stream",
     "text": [
      "1. australian king parrot\n",
      "2. blue lorikeet\n",
      "3. blue-and-yellow macaw\n",
      "4. blue-crowned parakeet\n",
      "5. blue-headed parrot\n",
      "6. budgerigar\n",
      "7. burrowing parrot\n",
      "8. caique parrot\n",
      "9. caiques\n",
      "10. carolina parakeet\n",
      "11. chestnut-fronted macaw\n",
      "12. cockatiel\n",
      "13. cockatiels\n",
      "14. cockatoos\n",
      "15. conure parrot\n",
      "16. cuban amazon\n",
      "17. eastern ground parrot\n",
      "18. eclectus parrot\n",
      "19. feral parrot\n",
      "20. galah\n",
      "21. golden parakeet\n",
      "22. golden-winged parakeet\n",
      "23. green parakeet\n",
      "24. green rosella\n",
      "25. grey parrot\n",
      "26. hispaniolan amazon\n",
      "27. hyacinth macaw\n",
      "28. kea\n",
      "29. kākāpō\n",
      "30. lilac-crowned amazon\n",
      "31. lovebirds\n",
      "32. military macaw\n",
      "33. moluccan eclectus\n",
      "34. monk parakeet\n",
      "35. orange-bellied parrot\n",
      "36. orange-winged amazon\n",
      "37. pacific parrotlet\n",
      "38. palm cockatoo\n",
      "39. parrotlet\n",
      "40. puerto rican amazon\n",
      "41. rainbow lorikeet\n",
      "42. red-and-green macaw\n",
      "43. red-crowned amazon\n",
      "44. red-crowned parakeet\n",
      "45. red-fan parrot\n",
      "46. red-rumped parrot\n",
      "47. rose-ringed parakeet\n",
      "48. rosy-faced lovebird\n",
      "49. saint vincent amazon\n",
      "50. scarlet macaw\n",
      "51. senegal parrot\n",
      "52. small conures\n",
      "53. sulphur-crested cockatoo\n",
      "54. sun conure\n",
      "55. thick-billed parrot\n",
      "56. turquoise-fronted amazon\n",
      "57. vernal hanging parrot\n",
      "58. yellow-crowned amazon\n",
      "59. yellow-faced parrot\n",
      "60. yellow-headed amazon\n",
      "61. yellow-naped amazon\n"
     ]
    }
   ],
   "source": [
    "for i in range(0, len(parrots)):\n",
    "  print(f\"{i+1}. {parrots[i]}\")"
   ]
  },
  {
   "cell_type": "code",
   "execution_count": 125,
   "metadata": {},
   "outputs": [],
   "source": [
    "\n",
    "parrots.remove('cockatiel')\n",
    "parrots.remove('cockatiels')\n",
    "\n"
   ]
  },
  {
   "cell_type": "code",
   "execution_count": 126,
   "metadata": {
    "id": "H0jlSAJIZ_WE"
   },
   "outputs": [
    {
     "data": {
      "text/plain": [
       "59"
      ]
     },
     "execution_count": 126,
     "metadata": {},
     "output_type": "execute_result"
    }
   ],
   "source": [
    "len(parrots)"
   ]
  },
  {
   "cell_type": "code",
   "execution_count": null,
   "metadata": {},
   "outputs": [],
   "source": []
  },
  {
   "cell_type": "code",
   "execution_count": null,
   "metadata": {},
   "outputs": [],
   "source": []
  },
  {
   "cell_type": "markdown",
   "metadata": {
    "id": "RyTmV4CVwyC0"
   },
   "source": [
    "# **Downloading pictures from web**"
   ]
  },
  {
   "cell_type": "code",
   "execution_count": 127,
   "metadata": {
    "id": "3HTE_c2GxYp0"
   },
   "outputs": [],
   "source": [
    "!pip install -Uqq fastai\n",
    "!pip install -Uqq fastbook"
   ]
  },
  {
   "cell_type": "code",
   "execution_count": 128,
   "metadata": {
    "id": "vhSUMj-aww6L"
   },
   "outputs": [],
   "source": [
    "import fastai\n",
    "import fastbook\n",
    "from fastai import *\n",
    "from fastai.vision.all import *\n",
    "from fastai.vision.widgets import *\n",
    "from fastbook import *\n",
    "from urllib.request import urlopen\n",
    "import os\n",
    "\n",
    "%reload_ext autoreload\n",
    "%autoreload 2\n",
    "%matplotlib inline\n",
    "bs = 32 # batch size\n",
    "version = 1\n",
    "\n",
    "\n",
    "global parrot_species\n",
    "global dp"
   ]
  },
  {
   "cell_type": "code",
   "execution_count": null,
   "metadata": {
    "id": "CmH7SDmBxQnc"
   },
   "outputs": [],
   "source": []
  },
  {
   "cell_type": "markdown",
   "metadata": {
    "id": "C_GkNXhjw-p4"
   },
   "source": [
    "**Download Images from Browser**\n",
    "\n",
    "You can download images from Google Image Search and Bing Image Search. You can try it out in your own time. You might need to build a scraper or use their API.\n",
    "\n",
    "For ease, we are going to use DuckDuckGo Image Search.\n",
    "\n",
    "Good news! Fastai has a function to do this for us.\n"
   ]
  },
  {
   "cell_type": "code",
   "execution_count": 129,
   "metadata": {
    "colab": {
     "base_uri": "https://localhost:8080/"
    },
    "id": "-0Sk6JMRw8Wy",
    "outputId": "e6d53184-3d12-4ed3-c048-e69f60be0d10"
   },
   "outputs": [
    {
     "name": "stdout",
     "output_type": "stream",
     "text": [
      "search_images_ddg(term, max_images=200)\n",
      "Search for `term` with DuckDuckGo and return a unique urls of about `max_images` images\n",
      "\n",
      "To get a prettier result with hyperlinks to source code and documentation, install nbdev: pip install nbdev\n"
     ]
    }
   ],
   "source": [
    "doc(search_images_ddg)"
   ]
  },
  {
   "cell_type": "code",
   "execution_count": 130,
   "metadata": {
    "colab": {
     "base_uri": "https://localhost:8080/"
    },
    "id": "FKC4lEoBxfVX",
    "outputId": "30b390ce-f358-475f-e641-a97d44b243dd"
   },
   "outputs": [
    {
     "name": "stdout",
     "output_type": "stream",
     "text": [
      "search_images_bing(key, term, min_sz=128, max_images=150)\n",
      "None\n",
      "\n",
      "To get a prettier result with hyperlinks to source code and documentation, install nbdev: pip install nbdev\n"
     ]
    }
   ],
   "source": [
    "doc(search_images_bing)"
   ]
  },
  {
   "cell_type": "code",
   "execution_count": null,
   "metadata": {},
   "outputs": [],
   "source": []
  },
  {
   "cell_type": "code",
   "execution_count": null,
   "metadata": {},
   "outputs": [],
   "source": []
  },
  {
   "cell_type": "code",
   "execution_count": 131,
   "metadata": {
    "id": "IBo_IFIFxjTN"
   },
   "outputs": [],
   "source": [
    "# urls = search_images_ddg(parrots[-1], max_images=300)\n",
    "\n",
    "# len(urls),urls[0]"
   ]
  },
  {
   "cell_type": "code",
   "execution_count": 132,
   "metadata": {},
   "outputs": [],
   "source": [
    "# images = search_images_ddg(parrots[-1], max_images=300)\n",
    "# f\"No of Images => {len(images)} -- One Image URL => {images[0]}\""
   ]
  },
  {
   "cell_type": "code",
   "execution_count": 133,
   "metadata": {
    "scrolled": false
   },
   "outputs": [],
   "source": [
    "# for i in urls:\n",
    "#     print(i)"
   ]
  },
  {
   "cell_type": "code",
   "execution_count": null,
   "metadata": {},
   "outputs": [],
   "source": []
  },
  {
   "cell_type": "code",
   "execution_count": null,
   "metadata": {},
   "outputs": [],
   "source": []
  },
  {
   "cell_type": "code",
   "execution_count": null,
   "metadata": {},
   "outputs": [],
   "source": []
  },
  {
   "cell_type": "code",
   "execution_count": 135,
   "metadata": {},
   "outputs": [],
   "source": [
    "#=================================================================================================================\n",
    "\n",
    "# def downloading_images(images, parrot_species):\n",
    "\n",
    "\n",
    "\n",
    "#     #failed_urls = []\n",
    "#     for i in range(0,len(images)):\n",
    "#         try:\n",
    "#             x = requests.get(images[i])\n",
    "#             # print(x)\n",
    "#             x = str(x)\n",
    "#             if int(x[11:14]) != 404:\n",
    "#                 download_url(images[i], f\"{dp}/{parrot_species}_{i}.jpg\",show_progress = False)\n",
    "#         except:\n",
    "#              continue\n",
    "            \n",
    "            #failed_urls.append(images[i])\n",
    "\n",
    "\n",
    "    #Retrying to download the failed URLs        \n",
    "\n",
    "#     j = 301\n",
    "#     for i in failed_urls:\n",
    "\n",
    "#         try:\n",
    "#             x = requests.get(i)\n",
    "#             x = str(x)\n",
    "#             #print(x)\n",
    "#             if x[11:14] == \"200\":\n",
    "#                 #print(\"yes\")\n",
    "#                 download_url(i, f\"{dp}/{parrot_species}_{j}.jpg\")\n",
    "#                 failed_urls.remove(i)\n",
    "#                 j+=1\n",
    "#         except:\n",
    "#             pass\n",
    "        \n",
    "#     print(len(failed_urls))\n",
    "\n",
    "\n",
    "#=================================================================================================================\n",
    "\n",
    "def create_dir(base,ext):\n",
    "    _path=os.path.join(base,ext)\n",
    "    if not os.path.exists(_path):\n",
    "        os.mkdir(_path)\n",
    "    return _path\n",
    "\n",
    "\n",
    "def downloading_images(images, parrot_species):\n",
    "    \n",
    "    #failed_urls = []\n",
    "    for i in range(0,len(images)):\n",
    "        try:\n",
    "            download_url(images[i], f\"{dp}/{parrot_species}_{i}.jpg\",show_progress = False)\n",
    "        except:\n",
    "            continue\n",
    "\n",
    "\n",
    "def totalFile(parrot_species):\n",
    "    allFiles = os.listdir(f\"images/{parrot_species}/\")\n",
    "    return allFiles\n",
    "\n",
    "\n",
    "\n",
    "def deleting_corrupt_files(allFiles,parrot_species):\n",
    "\n",
    "    for i in allFiles:\n",
    "\n",
    "        path = f\"images/{parrot_species}/{i}\"\n",
    "        try:\n",
    "            im = Image.open(path)\n",
    "            im.verify()\n",
    "        except: \n",
    "            os.remove(f\"images/{parrot_species}/{i}\")    "
   ]
  },
  {
   "cell_type": "code",
   "execution_count": null,
   "metadata": {},
   "outputs": [],
   "source": []
  },
  {
   "cell_type": "code",
   "execution_count": 136,
   "metadata": {},
   "outputs": [],
   "source": [
    "# path =f\"{dp}/{parrots[-1]}_2.jpg\"\n",
    "# im = Image.open(path)\n",
    "# im.thumbnail((256,256))\n",
    "# im"
   ]
  },
  {
   "cell_type": "code",
   "execution_count": null,
   "metadata": {},
   "outputs": [],
   "source": [
    "import time\n",
    "\n",
    "species_list = {}\n",
    "\n",
    "for i in parrots:\n",
    "    dp=create_dir(os.getcwd(),f\"{i}\")\n",
    "    images = search_images_ddg(i, max_images=300)\n",
    "    species_list[i] = len(images)\n",
    "    \n",
    "    start = time.time()\n",
    "    downloading_images(images, i)\n",
    "    allFiles = totalFile(i)\n",
    "    before = len(allFiles)\n",
    "    deleting_corrupt_files(allFiles,i)\n",
    "    end = time.time()\n",
    "    \n",
    "    t = end - start\n",
    "    seconds = t % (24 * 3600)\n",
    "    hour = seconds // 3600\n",
    "    seconds %= 3600\n",
    "    minutes = seconds // 60\n",
    "    seconds %= 60\n",
    "    tot = f\"{minutes} Minutes {seconds} Seconds\" \n",
    "    \n",
    "    print(f\"{i}: {len(os.listdir(dp))} | Before : After = {before} : {len(os.listdir(dp))} | Total time = {tot} | Status: Done\")\n",
    "    print(\"===========================\")\n",
    "    time.sleep(10)"
   ]
  },
  {
   "cell_type": "code",
   "execution_count": null,
   "metadata": {},
   "outputs": [],
   "source": []
  },
  {
   "cell_type": "code",
   "execution_count": null,
   "metadata": {},
   "outputs": [],
   "source": []
  },
  {
   "cell_type": "code",
   "execution_count": null,
   "metadata": {},
   "outputs": [],
   "source": []
  },
  {
   "cell_type": "code",
   "execution_count": null,
   "metadata": {},
   "outputs": [],
   "source": []
  },
  {
   "cell_type": "code",
   "execution_count": null,
   "metadata": {},
   "outputs": [],
   "source": []
  },
  {
   "cell_type": "code",
   "execution_count": null,
   "metadata": {},
   "outputs": [],
   "source": []
  },
  {
   "cell_type": "code",
   "execution_count": null,
   "metadata": {},
   "outputs": [],
   "source": []
  },
  {
   "cell_type": "code",
   "execution_count": null,
   "metadata": {},
   "outputs": [],
   "source": []
  },
  {
   "cell_type": "code",
   "execution_count": null,
   "metadata": {},
   "outputs": [],
   "source": []
  },
  {
   "cell_type": "code",
   "execution_count": null,
   "metadata": {},
   "outputs": [],
   "source": []
  },
  {
   "cell_type": "code",
   "execution_count": null,
   "metadata": {
    "id": "j2xFeGqIw8H_"
   },
   "outputs": [],
   "source": []
  },
  {
   "cell_type": "code",
   "execution_count": null,
   "metadata": {
    "id": "dEyNNw00w8Fi"
   },
   "outputs": [],
   "source": []
  },
  {
   "cell_type": "code",
   "execution_count": null,
   "metadata": {
    "id": "Uo4clC7mw8DI"
   },
   "outputs": [],
   "source": []
  },
  {
   "cell_type": "code",
   "execution_count": null,
   "metadata": {
    "id": "HMZoPzLfw8A6"
   },
   "outputs": [],
   "source": []
  },
  {
   "cell_type": "code",
   "execution_count": null,
   "metadata": {
    "id": "P1phy3igw7_H"
   },
   "outputs": [],
   "source": []
  },
  {
   "cell_type": "code",
   "execution_count": null,
   "metadata": {
    "id": "SyNwJcM-w77h"
   },
   "outputs": [],
   "source": []
  },
  {
   "cell_type": "code",
   "execution_count": null,
   "metadata": {
    "id": "Vhbj4bfEw75Q"
   },
   "outputs": [],
   "source": []
  },
  {
   "cell_type": "code",
   "execution_count": null,
   "metadata": {
    "id": "wv6BKH4qw73i"
   },
   "outputs": [],
   "source": []
  },
  {
   "cell_type": "code",
   "execution_count": null,
   "metadata": {
    "id": "FOGpOe_Qw7z5"
   },
   "outputs": [],
   "source": []
  },
  {
   "cell_type": "code",
   "execution_count": null,
   "metadata": {
    "id": "APkJmq3Rw7x5"
   },
   "outputs": [],
   "source": []
  },
  {
   "cell_type": "code",
   "execution_count": null,
   "metadata": {
    "id": "_MOqgVX2w7vw"
   },
   "outputs": [],
   "source": []
  },
  {
   "cell_type": "code",
   "execution_count": null,
   "metadata": {
    "id": "suDVwQNdw7tY"
   },
   "outputs": [],
   "source": []
  },
  {
   "cell_type": "code",
   "execution_count": null,
   "metadata": {
    "id": "aSf_Mtcyw7rB"
   },
   "outputs": [],
   "source": []
  },
  {
   "cell_type": "code",
   "execution_count": null,
   "metadata": {
    "id": "c2JG2Sktw7o5"
   },
   "outputs": [],
   "source": []
  },
  {
   "cell_type": "code",
   "execution_count": null,
   "metadata": {
    "id": "iXn_1NP8w7mq"
   },
   "outputs": [],
   "source": []
  },
  {
   "cell_type": "code",
   "execution_count": null,
   "metadata": {
    "id": "G7IK_Xk4w7kE"
   },
   "outputs": [],
   "source": []
  },
  {
   "cell_type": "code",
   "execution_count": null,
   "metadata": {
    "id": "ZlMuxroRw7hw"
   },
   "outputs": [],
   "source": []
  },
  {
   "cell_type": "code",
   "execution_count": null,
   "metadata": {
    "id": "e0djKj3gw7fJ"
   },
   "outputs": [],
   "source": []
  },
  {
   "cell_type": "code",
   "execution_count": null,
   "metadata": {
    "id": "94SxfcOnw7cg"
   },
   "outputs": [],
   "source": []
  },
  {
   "cell_type": "code",
   "execution_count": null,
   "metadata": {
    "id": "tIRsdAviw7aJ"
   },
   "outputs": [],
   "source": []
  },
  {
   "cell_type": "code",
   "execution_count": null,
   "metadata": {
    "id": "R3sWANURw7Vo"
   },
   "outputs": [],
   "source": []
  },
  {
   "cell_type": "code",
   "execution_count": null,
   "metadata": {
    "id": "a1jZmjXaw7S4"
   },
   "outputs": [],
   "source": []
  }
 ],
 "metadata": {
  "colab": {
   "provenance": []
  },
  "kernelspec": {
   "display_name": "Python 3 (ipykernel)",
   "language": "python",
   "name": "python3"
  },
  "language_info": {
   "codemirror_mode": {
    "name": "ipython",
    "version": 3
   },
   "file_extension": ".py",
   "mimetype": "text/x-python",
   "name": "python",
   "nbconvert_exporter": "python",
   "pygments_lexer": "ipython3",
   "version": "3.9.12"
  }
 },
 "nbformat": 4,
 "nbformat_minor": 1
}
