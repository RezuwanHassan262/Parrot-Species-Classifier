{
 "cells": [
  {
   "cell_type": "code",
   "execution_count": 1,
   "id": "917f38e9",
   "metadata": {},
   "outputs": [],
   "source": [
    "import hashlib\n",
    "import os"
   ]
  },
  {
   "cell_type": "code",
   "execution_count": 2,
   "id": "57ccce1c",
   "metadata": {},
   "outputs": [
    {
     "data": {
      "text/plain": [
       "'C:\\\\Users\\\\MD. REZUWAN HASAN\\\\Desktop\\\\Jupyter Notebooks\\\\Master Course BD\\\\Week 9\\\\Own Practice'"
      ]
     },
     "execution_count": 2,
     "metadata": {},
     "output_type": "execute_result"
    }
   ],
   "source": [
    "os.getcwd()"
   ]
  },
  {
   "cell_type": "code",
   "execution_count": 12,
   "id": "2199c768",
   "metadata": {},
   "outputs": [],
   "source": [
    "directory = \"C:/Users/MD. REZUWAN HASAN/Desktop/Jupyter Notebooks/Master Course BD/Week 9/Own Practice/images/\""
   ]
  },
  {
   "cell_type": "code",
   "execution_count": 13,
   "id": "cbc0f73f",
   "metadata": {},
   "outputs": [
    {
     "name": "stdout",
     "output_type": "stream",
     "text": [
      "['african grey parrot', 'australian king parrot', 'blue headed parrot', 'blue lorikeet', 'blue-and-yellow macaw', 'blue-crowned parakeet', 'blue-headed parrot', 'blue-winged macaw', 'budgerigar', 'burrowing parrot', 'caique parrot', 'carolina parakeet', 'catalina macaw', 'chestnut-fronted macaw', 'cockatiels', 'cockatoos', 'conure parrot', 'crimson rosella', 'cuban amazon', 'eclectus parrot', 'galah', 'golden parakeet', 'great green macaw', 'great hanging parrot', 'greater vasa parrot', 'green parakeet', 'green rosella', 'hahn_s macaws', 'hyacinth macaw', 'illiger_s macaws', 'kea', 'kākāpō', 'lilac-crowned amazon', 'lovebirds', 'Maroon fronted Parrot', 'MCBD', 'moluccan eclectus', 'monk parakeet', 'orange-winged amazon', 'others', 'pacific parrotlet', 'palm cockatoo', 'parrotlet', 'plum-headed parakeet', 'puerto rican amazon', 'rainbow lorikeet', 'red-breasted parakeet', 'red-crowned amazon', 'red-crowned parakeet', 'red-fan parrot', 'red-lored amazon', 'red-rumped parrot', 'red-shouldered macaw', 'red-tailed black cock', 'rose-ringed parakeet', 'rosy-faced lovebird', 'saint vincent amazon', 'scarlet macaw', 'senegal parrot', 'severe macaws', 'small conures', 'spixs macaw', 'sun conure', 'thick-billed parrot', 'timneh parrot', 'turquoise-fronted amazon', 'vernal hanging parrot', 'white cockatoo', 'yellow-collared macaws', 'yellow-crowned amazon', 'yellow-faced parrot', 'yellow-headed amazon', 'yellow-naped amazon']\n",
      "\n",
      "73\n"
     ]
    }
   ],
   "source": [
    "x =os.listdir(directory)\n",
    "print(x)\n",
    "print()\n",
    "print(len(x))"
   ]
  },
  {
   "cell_type": "code",
   "execution_count": 14,
   "id": "249ef52b",
   "metadata": {},
   "outputs": [
    {
     "name": "stdout",
     "output_type": "stream",
     "text": [
      "african grey parrot : 360 <= Before\n",
      "african grey parrot : 360 <= After\n",
      "======================================\n",
      "australian king parrot : 365 <= Before\n",
      "australian king parrot : 365 <= After\n",
      "======================================\n",
      "blue headed parrot : 380 <= Before\n",
      "blue headed parrot : 380 <= After\n",
      "======================================\n",
      "blue lorikeet : 325 <= Before\n",
      "blue lorikeet : 325 <= After\n",
      "======================================\n",
      "blue-and-yellow macaw : 460 <= Before\n",
      "blue-and-yellow macaw : 460 <= After\n",
      "======================================\n",
      "blue-crowned parakeet : 398 <= Before\n",
      "blue-crowned parakeet : 398 <= After\n",
      "======================================\n",
      "blue-headed parrot : 343 <= Before\n",
      "blue-headed parrot : 343 <= After\n",
      "======================================\n",
      "blue-winged macaw : 356 <= Before\n",
      "blue-winged macaw : 356 <= After\n",
      "======================================\n",
      "budgerigar : 440 <= Before\n",
      "budgerigar : 440 <= After\n",
      "======================================\n",
      "burrowing parrot : 397 <= Before\n",
      "burrowing parrot : 397 <= After\n",
      "======================================\n",
      "caique parrot : 645 <= Before\n",
      "caique parrot : 645 <= After\n",
      "======================================\n",
      "carolina parakeet : 383 <= Before\n",
      "carolina parakeet : 383 <= After\n",
      "======================================\n",
      "catalina macaw : 181 <= Before\n",
      "catalina macaw : 181 <= After\n",
      "======================================\n",
      "chestnut-fronted macaw : 345 <= Before\n",
      "chestnut-fronted macaw : 345 <= After\n",
      "======================================\n",
      "cockatiels : 201 <= Before\n",
      "cockatiels : 201 <= After\n",
      "======================================\n",
      "cockatoos : 338 <= Before\n",
      "cockatoos : 338 <= After\n",
      "======================================\n",
      "conure parrot : 280 <= Before\n",
      "conure parrot : 280 <= After\n",
      "======================================\n",
      "crimson rosella : 186 <= Before\n",
      "crimson rosella : 186 <= After\n",
      "======================================\n",
      "cuban amazon : 307 <= Before\n",
      "cuban amazon : 307 <= After\n",
      "======================================\n",
      "eclectus parrot : 282 <= Before\n",
      "eclectus parrot : 282 <= After\n",
      "======================================\n",
      "galah : 356 <= Before\n",
      "galah : 356 <= After\n",
      "======================================\n",
      "golden parakeet : 351 <= Before\n",
      "golden parakeet : 351 <= After\n",
      "======================================\n",
      "great green macaw : 194 <= Before\n",
      "great green macaw : 194 <= After\n",
      "======================================\n",
      "great hanging parrot : 239 <= Before\n",
      "great hanging parrot : 239 <= After\n",
      "======================================\n",
      "greater vasa parrot : 340 <= Before\n",
      "greater vasa parrot : 340 <= After\n",
      "======================================\n",
      "green parakeet : 250 <= Before\n",
      "green parakeet : 250 <= After\n",
      "======================================\n",
      "green rosella : 287 <= Before\n",
      "green rosella : 287 <= After\n",
      "======================================\n",
      "hahn_s macaws : 191 <= Before\n",
      "hahn_s macaws : 191 <= After\n",
      "======================================\n",
      "hyacinth macaw : 278 <= Before\n",
      "hyacinth macaw : 278 <= After\n",
      "======================================\n",
      "illiger_s macaws : 178 <= Before\n",
      "illiger_s macaws : 178 <= After\n",
      "======================================\n",
      "kea : 285 <= Before\n",
      "kea : 285 <= After\n",
      "======================================\n",
      "kākāpō : 273 <= Before\n",
      "kākāpō : 273 <= After\n",
      "======================================\n",
      "lilac-crowned amazon : 279 <= Before\n",
      "lilac-crowned amazon : 279 <= After\n",
      "======================================\n",
      "lovebirds : 275 <= Before\n",
      "lovebirds : 275 <= After\n",
      "======================================\n",
      "Maroon fronted Parrot : 238 <= Before\n",
      "Maroon fronted Parrot : 237 <= After\n",
      "======================================\n",
      "MCBD : 9 <= Before\n"
     ]
    },
    {
     "ename": "PermissionError",
     "evalue": "[Errno 13] Permission denied: 'C:/Users/MD. REZUWAN HASAN/Desktop/Jupyter Notebooks/Master Course BD/Week 9/Own Practice/images/MCBD/catalina macaw'",
     "output_type": "error",
     "traceback": [
      "\u001b[1;31m---------------------------------------------------------------------------\u001b[0m",
      "\u001b[1;31mPermissionError\u001b[0m                           Traceback (most recent call last)",
      "Input \u001b[1;32mIn [14]\u001b[0m, in \u001b[0;36m<cell line: 1>\u001b[1;34m()\u001b[0m\n\u001b[0;32m     10\u001b[0m \u001b[38;5;28;01mfor\u001b[39;00m filename \u001b[38;5;129;01min\u001b[39;00m os\u001b[38;5;241m.\u001b[39mlistdir(directory):\n\u001b[0;32m     11\u001b[0m     path \u001b[38;5;241m=\u001b[39m os\u001b[38;5;241m.\u001b[39mpath\u001b[38;5;241m.\u001b[39mjoin(directory, filename)\n\u001b[1;32m---> 12\u001b[0m     digest \u001b[38;5;241m=\u001b[39m hashlib\u001b[38;5;241m.\u001b[39msha1(\u001b[38;5;28;43mopen\u001b[39;49m\u001b[43m(\u001b[49m\u001b[43mpath\u001b[49m\u001b[43m,\u001b[49m\u001b[38;5;124;43m'\u001b[39;49m\u001b[38;5;124;43mrb\u001b[39;49m\u001b[38;5;124;43m'\u001b[39;49m\u001b[43m)\u001b[49m\u001b[38;5;241m.\u001b[39mread())\u001b[38;5;241m.\u001b[39mdigest()\n\u001b[0;32m     13\u001b[0m     \u001b[38;5;28;01mif\u001b[39;00m digest \u001b[38;5;129;01mnot\u001b[39;00m \u001b[38;5;129;01min\u001b[39;00m hashes:\n\u001b[0;32m     14\u001b[0m         hashes\u001b[38;5;241m.\u001b[39madd(digest)\n",
      "\u001b[1;31mPermissionError\u001b[0m: [Errno 13] Permission denied: 'C:/Users/MD. REZUWAN HASAN/Desktop/Jupyter Notebooks/Master Course BD/Week 9/Own Practice/images/MCBD/catalina macaw'"
     ]
    }
   ],
   "source": [
    "for i in x:\n",
    "    directory = f\"C:/Users/MD. REZUWAN HASAN/Desktop/Jupyter Notebooks/Master Course BD/Week 9/Own Practice/images/{i}/\"\n",
    "\n",
    "    hashes = set()\n",
    "    \n",
    "    x =os.listdir(directory)\n",
    "    print(f\"{i} : {len(x)} <= Before\")\n",
    "    \n",
    "\n",
    "    for filename in os.listdir(directory):\n",
    "        path = os.path.join(directory, filename)\n",
    "        digest = hashlib.sha1(open(path,'rb').read()).digest()\n",
    "        if digest not in hashes:\n",
    "            hashes.add(digest)\n",
    "        else:\n",
    "            os.remove(path)\n",
    "    \n",
    "    x =os.listdir(directory)\n",
    "    print(f\"{i} : {len(x)} <= After\")\n",
    "    print(\"======================================\")\n"
   ]
  },
  {
   "cell_type": "code",
   "execution_count": null,
   "id": "59a4ef9c",
   "metadata": {},
   "outputs": [],
   "source": []
  },
  {
   "cell_type": "code",
   "execution_count": null,
   "id": "d6d893a6",
   "metadata": {},
   "outputs": [],
   "source": []
  },
  {
   "cell_type": "code",
   "execution_count": 7,
   "id": "5e72c5dc",
   "metadata": {},
   "outputs": [],
   "source": [
    "l = [\"hahn_s macaws\",\n",
    "    \"illiger_s macaws\",\n",
    "    \"severe macaws\",\n",
    "    \"yellow-collared macaws\",\n",
    "    \"great green macaw\",\n",
    "    \"crimson rosella\",\n",
    "    \"red-breasted parakeet\"]"
   ]
  },
  {
   "cell_type": "code",
   "execution_count": null,
   "id": "00c4a1c3",
   "metadata": {},
   "outputs": [],
   "source": []
  },
  {
   "cell_type": "code",
   "execution_count": 10,
   "id": "cf0015d8",
   "metadata": {},
   "outputs": [
    {
     "name": "stdout",
     "output_type": "stream",
     "text": [
      "hahn_s macaws : 191 <= Before\n",
      "hahn_s macaws : 191 <= After\n",
      "======================================\n",
      "illiger_s macaws : 178 <= Before\n",
      "illiger_s macaws : 178 <= After\n",
      "======================================\n",
      "severe macaws : 187 <= Before\n",
      "severe macaws : 187 <= After\n",
      "======================================\n",
      "yellow-collared macaws : 172 <= Before\n",
      "yellow-collared macaws : 172 <= After\n",
      "======================================\n",
      "great green macaw : 194 <= Before\n",
      "great green macaw : 194 <= After\n",
      "======================================\n",
      "crimson rosella : 186 <= Before\n",
      "crimson rosella : 186 <= After\n",
      "======================================\n",
      "red-breasted parakeet : 196 <= Before\n",
      "red-breasted parakeet : 196 <= After\n",
      "======================================\n"
     ]
    }
   ],
   "source": [
    "for i in l:\n",
    "    directory = f\"C:/Users/MD. REZUWAN HASAN/Desktop/Jupyter Notebooks/Master Course BD/Week 9/Own Practice/images/{i}/\"\n",
    "\n",
    "    hashes = set()\n",
    "    \n",
    "    x =os.listdir(directory)\n",
    "    print(f\"{i} : {len(x)} <= Before\")\n",
    "    \n",
    "\n",
    "    for filename in os.listdir(directory):\n",
    "        path = os.path.join(directory, filename)\n",
    "        digest = hashlib.sha1(open(path,'rb').read()).digest()\n",
    "        if digest not in hashes:\n",
    "            hashes.add(digest)\n",
    "        else:\n",
    "            os.remove(path)\n",
    "    \n",
    "    x =os.listdir(directory)\n",
    "    print(f\"{i} : {len(x)} <= After\")\n",
    "    print(\"======================================\")\n"
   ]
  },
  {
   "cell_type": "code",
   "execution_count": null,
   "id": "5e02abc4",
   "metadata": {},
   "outputs": [],
   "source": []
  }
 ],
 "metadata": {
  "kernelspec": {
   "display_name": "Python 3 (ipykernel)",
   "language": "python",
   "name": "python3"
  },
  "language_info": {
   "codemirror_mode": {
    "name": "ipython",
    "version": 3
   },
   "file_extension": ".py",
   "mimetype": "text/x-python",
   "name": "python",
   "nbconvert_exporter": "python",
   "pygments_lexer": "ipython3",
   "version": "3.9.12"
  }
 },
 "nbformat": 4,
 "nbformat_minor": 5
}
