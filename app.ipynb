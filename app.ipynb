{
  "cells": [
    {
      "cell_type": "code",
      "execution_count": 43,
      "id": "46050816",
      "metadata": {
        "colab": {
          "base_uri": "https://localhost:8080/"
        },
        "id": "46050816",
        "outputId": "9231ae99-e965-4195-be4a-d65933c337c3"
      },
      "outputs": [
        {
          "output_type": "stream",
          "name": "stdout",
          "text": [
            "Requirement already satisfied: gradio in /usr/local/lib/python3.10/dist-packages (3.38.0)\n",
            "Requirement already satisfied: aiofiles<24.0,>=22.0 in /usr/local/lib/python3.10/dist-packages (from gradio) (23.1.0)\n",
            "Requirement already satisfied: aiohttp~=3.0 in /usr/local/lib/python3.10/dist-packages (from gradio) (3.8.4)\n",
            "Requirement already satisfied: altair<6.0,>=4.2.0 in /usr/local/lib/python3.10/dist-packages (from gradio) (4.2.2)\n",
            "Requirement already satisfied: fastapi in /usr/local/lib/python3.10/dist-packages (from gradio) (0.100.0)\n",
            "Requirement already satisfied: ffmpy in /usr/local/lib/python3.10/dist-packages (from gradio) (0.3.1)\n",
            "Requirement already satisfied: gradio-client>=0.2.10 in /usr/local/lib/python3.10/dist-packages (from gradio) (0.2.10)\n",
            "Requirement already satisfied: httpx in /usr/local/lib/python3.10/dist-packages (from gradio) (0.24.1)\n",
            "Requirement already satisfied: huggingface-hub>=0.14.0 in /usr/local/lib/python3.10/dist-packages (from gradio) (0.16.4)\n",
            "Requirement already satisfied: jinja2<4.0 in /usr/local/lib/python3.10/dist-packages (from gradio) (3.1.2)\n",
            "Requirement already satisfied: markdown-it-py[linkify]>=2.0.0 in /usr/local/lib/python3.10/dist-packages (from gradio) (2.2.0)\n",
            "Requirement already satisfied: markupsafe~=2.0 in /usr/local/lib/python3.10/dist-packages (from gradio) (2.1.3)\n",
            "Requirement already satisfied: matplotlib~=3.0 in /usr/local/lib/python3.10/dist-packages (from gradio) (3.7.1)\n",
            "Requirement already satisfied: mdit-py-plugins<=0.3.3 in /usr/local/lib/python3.10/dist-packages (from gradio) (0.3.3)\n",
            "Requirement already satisfied: numpy~=1.0 in /usr/local/lib/python3.10/dist-packages (from gradio) (1.22.4)\n",
            "Requirement already satisfied: orjson~=3.0 in /usr/local/lib/python3.10/dist-packages (from gradio) (3.9.2)\n",
            "Requirement already satisfied: packaging in /usr/local/lib/python3.10/dist-packages (from gradio) (23.1)\n",
            "Requirement already satisfied: pandas<3.0,>=1.0 in /usr/local/lib/python3.10/dist-packages (from gradio) (1.5.3)\n",
            "Requirement already satisfied: pillow<11.0,>=8.0 in /usr/local/lib/python3.10/dist-packages (from gradio) (8.4.0)\n",
            "Requirement already satisfied: pydantic!=1.8,!=1.8.1,!=2.0.0,!=2.0.1,<3.0.0,>=1.7.4 in /usr/local/lib/python3.10/dist-packages (from gradio) (1.10.11)\n",
            "Requirement already satisfied: pydub in /usr/local/lib/python3.10/dist-packages (from gradio) (0.25.1)\n",
            "Requirement already satisfied: python-multipart in /usr/local/lib/python3.10/dist-packages (from gradio) (0.0.6)\n",
            "Requirement already satisfied: pyyaml<7.0,>=5.0 in /usr/local/lib/python3.10/dist-packages (from gradio) (6.0.1)\n",
            "Requirement already satisfied: requests~=2.0 in /usr/local/lib/python3.10/dist-packages (from gradio) (2.27.1)\n",
            "Requirement already satisfied: semantic-version~=2.0 in /usr/local/lib/python3.10/dist-packages (from gradio) (2.10.0)\n",
            "Requirement already satisfied: typing-extensions~=4.0 in /usr/local/lib/python3.10/dist-packages (from gradio) (4.7.1)\n",
            "Requirement already satisfied: uvicorn>=0.14.0 in /usr/local/lib/python3.10/dist-packages (from gradio) (0.23.1)\n",
            "Requirement already satisfied: websockets<12.0,>=10.0 in /usr/local/lib/python3.10/dist-packages (from gradio) (11.0.3)\n",
            "Requirement already satisfied: attrs>=17.3.0 in /usr/local/lib/python3.10/dist-packages (from aiohttp~=3.0->gradio) (23.1.0)\n",
            "Requirement already satisfied: charset-normalizer<4.0,>=2.0 in /usr/local/lib/python3.10/dist-packages (from aiohttp~=3.0->gradio) (2.0.12)\n",
            "Requirement already satisfied: multidict<7.0,>=4.5 in /usr/local/lib/python3.10/dist-packages (from aiohttp~=3.0->gradio) (6.0.4)\n",
            "Requirement already satisfied: async-timeout<5.0,>=4.0.0a3 in /usr/local/lib/python3.10/dist-packages (from aiohttp~=3.0->gradio) (4.0.2)\n",
            "Requirement already satisfied: yarl<2.0,>=1.0 in /usr/local/lib/python3.10/dist-packages (from aiohttp~=3.0->gradio) (1.9.2)\n",
            "Requirement already satisfied: frozenlist>=1.1.1 in /usr/local/lib/python3.10/dist-packages (from aiohttp~=3.0->gradio) (1.4.0)\n",
            "Requirement already satisfied: aiosignal>=1.1.2 in /usr/local/lib/python3.10/dist-packages (from aiohttp~=3.0->gradio) (1.3.1)\n",
            "Requirement already satisfied: entrypoints in /usr/local/lib/python3.10/dist-packages (from altair<6.0,>=4.2.0->gradio) (0.4)\n",
            "Requirement already satisfied: jsonschema>=3.0 in /usr/local/lib/python3.10/dist-packages (from altair<6.0,>=4.2.0->gradio) (4.3.3)\n",
            "Requirement already satisfied: toolz in /usr/local/lib/python3.10/dist-packages (from altair<6.0,>=4.2.0->gradio) (0.12.0)\n",
            "Requirement already satisfied: fsspec in /usr/local/lib/python3.10/dist-packages (from gradio-client>=0.2.10->gradio) (2023.6.0)\n",
            "Requirement already satisfied: filelock in /usr/local/lib/python3.10/dist-packages (from huggingface-hub>=0.14.0->gradio) (3.12.2)\n",
            "Requirement already satisfied: tqdm>=4.42.1 in /usr/local/lib/python3.10/dist-packages (from huggingface-hub>=0.14.0->gradio) (4.65.0)\n",
            "Requirement already satisfied: mdurl~=0.1 in /usr/local/lib/python3.10/dist-packages (from markdown-it-py[linkify]>=2.0.0->gradio) (0.1.2)\n",
            "Requirement already satisfied: linkify-it-py<3,>=1 in /usr/local/lib/python3.10/dist-packages (from markdown-it-py[linkify]>=2.0.0->gradio) (2.0.2)\n",
            "Requirement already satisfied: contourpy>=1.0.1 in /usr/local/lib/python3.10/dist-packages (from matplotlib~=3.0->gradio) (1.1.0)\n",
            "Requirement already satisfied: cycler>=0.10 in /usr/local/lib/python3.10/dist-packages (from matplotlib~=3.0->gradio) (0.11.0)\n",
            "Requirement already satisfied: fonttools>=4.22.0 in /usr/local/lib/python3.10/dist-packages (from matplotlib~=3.0->gradio) (4.41.0)\n",
            "Requirement already satisfied: kiwisolver>=1.0.1 in /usr/local/lib/python3.10/dist-packages (from matplotlib~=3.0->gradio) (1.4.4)\n",
            "Requirement already satisfied: pyparsing>=2.3.1 in /usr/local/lib/python3.10/dist-packages (from matplotlib~=3.0->gradio) (3.1.0)\n",
            "Requirement already satisfied: python-dateutil>=2.7 in /usr/local/lib/python3.10/dist-packages (from matplotlib~=3.0->gradio) (2.8.2)\n",
            "Requirement already satisfied: pytz>=2020.1 in /usr/local/lib/python3.10/dist-packages (from pandas<3.0,>=1.0->gradio) (2022.7.1)\n",
            "Requirement already satisfied: urllib3<1.27,>=1.21.1 in /usr/local/lib/python3.10/dist-packages (from requests~=2.0->gradio) (1.26.16)\n",
            "Requirement already satisfied: certifi>=2017.4.17 in /usr/local/lib/python3.10/dist-packages (from requests~=2.0->gradio) (2023.5.7)\n",
            "Requirement already satisfied: idna<4,>=2.5 in /usr/local/lib/python3.10/dist-packages (from requests~=2.0->gradio) (3.4)\n",
            "Requirement already satisfied: click>=7.0 in /usr/local/lib/python3.10/dist-packages (from uvicorn>=0.14.0->gradio) (8.1.6)\n",
            "Requirement already satisfied: h11>=0.8 in /usr/local/lib/python3.10/dist-packages (from uvicorn>=0.14.0->gradio) (0.14.0)\n",
            "Requirement already satisfied: starlette<0.28.0,>=0.27.0 in /usr/local/lib/python3.10/dist-packages (from fastapi->gradio) (0.27.0)\n",
            "Requirement already satisfied: httpcore<0.18.0,>=0.15.0 in /usr/local/lib/python3.10/dist-packages (from httpx->gradio) (0.17.3)\n",
            "Requirement already satisfied: sniffio in /usr/local/lib/python3.10/dist-packages (from httpx->gradio) (1.3.0)\n",
            "Requirement already satisfied: anyio<5.0,>=3.0 in /usr/local/lib/python3.10/dist-packages (from httpcore<0.18.0,>=0.15.0->httpx->gradio) (3.7.1)\n",
            "Requirement already satisfied: pyrsistent!=0.17.0,!=0.17.1,!=0.17.2,>=0.14.0 in /usr/local/lib/python3.10/dist-packages (from jsonschema>=3.0->altair<6.0,>=4.2.0->gradio) (0.19.3)\n",
            "Requirement already satisfied: uc-micro-py in /usr/local/lib/python3.10/dist-packages (from linkify-it-py<3,>=1->markdown-it-py[linkify]>=2.0.0->gradio) (1.0.2)\n",
            "Requirement already satisfied: six>=1.5 in /usr/local/lib/python3.10/dist-packages (from python-dateutil>=2.7->matplotlib~=3.0->gradio) (1.16.0)\n",
            "Requirement already satisfied: exceptiongroup in /usr/local/lib/python3.10/dist-packages (from anyio<5.0,>=3.0->httpcore<0.18.0,>=0.15.0->httpx->gradio) (1.1.2)\n"
          ]
        }
      ],
      "source": [
        "!pip install gradio"
      ]
    },
    {
      "cell_type": "code",
      "source": [
        "!pip install -Uqq fastai nbdev"
      ],
      "metadata": {
        "id": "vsUmU63d8Ynj"
      },
      "id": "vsUmU63d8Ynj",
      "execution_count": 44,
      "outputs": []
    },
    {
      "cell_type": "code",
      "execution_count": 70,
      "id": "40939130",
      "metadata": {
        "id": "40939130"
      },
      "outputs": [],
      "source": [
        "from fastai.vision.all import *\n",
        "from fastai.vision.all import load_learner\n",
        "import nbdev\n",
        "import os\n",
        "import gradio as gr"
      ]
    },
    {
      "cell_type": "code",
      "source": [
        "from google.colab import drive\n",
        "drive.mount('/content/drive/')"
      ],
      "metadata": {
        "colab": {
          "base_uri": "https://localhost:8080/"
        },
        "id": "6qkuzSg9vyjL",
        "outputId": "943e633a-cae5-4598-fd43-ddae99fd33e2"
      },
      "id": "6qkuzSg9vyjL",
      "execution_count": 71,
      "outputs": [
        {
          "output_type": "stream",
          "name": "stdout",
          "text": [
            "Drive already mounted at /content/drive/; to attempt to forcibly remount, call drive.mount(\"/content/drive/\", force_remount=True).\n"
          ]
        }
      ]
    },
    {
      "cell_type": "code",
      "source": [
        "import pathlib\n",
        "temp = pathlib.WindowsPath\n",
        "pathlib.WindowsPath = pathlib.PosixPath"
      ],
      "metadata": {
        "id": "Z40d_hvk-lW9"
      },
      "id": "Z40d_hvk-lW9",
      "execution_count": 72,
      "outputs": []
    },
    {
      "cell_type": "code",
      "execution_count": 73,
      "id": "57847912",
      "metadata": {
        "id": "57847912"
      },
      "outputs": [],
      "source": [
        "#export\n",
        "\n",
        "model_dir = \"/content/drive/MyDrive/Learnings/fai/models/parrot-recognizer-v3.pkl\"\n",
        "\n",
        "model = load_learner(model_dir)\n",
        "\n",
        "# model = load_data(model_dir, \"parrot-recognizer-v2.pkl\")"
      ]
    },
    {
      "cell_type": "code",
      "execution_count": 74,
      "id": "c1099221",
      "metadata": {
        "id": "c1099221"
      },
      "outputs": [],
      "source": [
        "parrot_species = ['african grey parrot',\n",
        " 'australian king parrot',\n",
        " 'blue lorikeet',\n",
        " 'blue-and-yellow macaw',\n",
        " 'blue-headed parrot',\n",
        " 'budgerigar',\n",
        " 'burrowing parrot',\n",
        " 'caique parrot',\n",
        " 'catalina macaw',\n",
        " 'chestnut-fronted macaw',\n",
        " 'cockatiels',\n",
        " 'crimson rosella',\n",
        " 'cuban amazon',\n",
        " 'eclectus parrot',\n",
        " 'galah',\n",
        " 'golden parakeet',\n",
        " 'great green macaw',\n",
        " 'great hanging parrot',\n",
        " 'greater vasa parrot',\n",
        " 'hahn_s macaws',\n",
        " 'hooded parrot',\n",
        " 'hyacinth macaw',\n",
        " 'kea',\n",
        " 'kākāpō',\n",
        " 'lovebirds',\n",
        " 'monk parakeet',\n",
        " 'orange-winged amazon',\n",
        " 'palm cockatoo',\n",
        " 'parrotlet',\n",
        " 'plum-headed parakeet',\n",
        " 'puerto rican amazon',\n",
        " 'rainbow lorikeet',\n",
        " 'red-breasted parakeet',\n",
        " 'red-crowned amazon',\n",
        " 'red-crowned parakeet',\n",
        " 'red-fan parrot',\n",
        " 'red-shouldered macaw',\n",
        " 'red-tailed black cockatoos',\n",
        " 'rose-ringed parakeet',\n",
        " 'saint vincent amazon',\n",
        " 'scarlet macaw',\n",
        " 'senegal parrot',\n",
        " 'spixs macaw',\n",
        " 'sun conure',\n",
        " 'thick-billed parrot',\n",
        " 'turquoise-fronted amazon',\n",
        " 'vernal hanging parrot',\n",
        " 'white cockatoo',\n",
        " 'yellow-collared macaws',\n",
        " 'yellow-headed amazon']"
      ]
    },
    {
      "cell_type": "code",
      "execution_count": 75,
      "id": "7609c224",
      "metadata": {
        "id": "7609c224"
      },
      "outputs": [],
      "source": [
        "def recognize_image(image):\n",
        "  pred, idx, probs = model.predict(image)\n",
        "  return dict(zip(parrot_species, map(float, probs)))"
      ]
    },
    {
      "cell_type": "code",
      "source": [
        "im =  \"/content/drive/MyDrive/Learnings/fai/test_images/unknown_12.jpg\""
      ],
      "metadata": {
        "id": "2dkvXoSdQz_w"
      },
      "id": "2dkvXoSdQz_w",
      "execution_count": 76,
      "outputs": []
    },
    {
      "cell_type": "code",
      "execution_count": 77,
      "id": "4213d55f",
      "metadata": {
        "colab": {
          "base_uri": "https://localhost:8080/",
          "height": 175
        },
        "id": "4213d55f",
        "outputId": "2e7302fa-f515-4ab4-bfd5-1039de955682"
      },
      "outputs": [
        {
          "output_type": "execute_result",
          "data": {
            "text/plain": [
              "PILImage mode=RGB size=192x158"
            ],
            "image/png": "[encoded data removed]"
          },
          "metadata": {},
          "execution_count": 77
        }
      ],
      "source": [
        "img = PILImage.create(im)\n",
        "img.thumbnail((192,192))\n",
        "img"
      ]
    },
    {
      "cell_type": "code",
      "execution_count": 78,
      "id": "51b5a95f",
      "metadata": {
        "colab": {
          "base_uri": "https://localhost:8080/",
          "height": 910
        },
        "id": "51b5a95f",
        "outputId": "c8cf6302-174f-4305-94eb-9fe08c32a4a6"
      },
      "outputs": [
        {
          "output_type": "display_data",
          "data": {
            "text/plain": [
              "<IPython.core.display.HTML object>"
            ],
            "text/html": [
              "\n",
              "<style>\n",
              "    /* Turns off some styling */\n",
              "    progress {\n",
              "        /* gets rid of default border in Firefox and Opera. */\n",
              "        border: none;\n",
              "        /* Needs to be in here for Safari polyfill so background images work as expected. */\n",
              "        background-size: auto;\n",
              "    }\n",
              "    progress:not([value]), progress:not([value])::-webkit-progress-bar {\n",
              "        background: repeating-linear-gradient(45deg, #7e7e7e, #7e7e7e 10px, #5c5c5c 10px, #5c5c5c 20px);\n",
              "    }\n",
              "    .progress-bar-interrupted, .progress-bar-interrupted::-webkit-progress-bar {\n",
              "        background: #F44336;\n",
              "    }\n",
              "</style>\n"
            ]
          },
          "metadata": {}
        },
        {
          "output_type": "display_data",
          "data": {
            "text/plain": [
              "<IPython.core.display.HTML object>"
            ],
            "text/html": []
          },
          "metadata": {}
        },
        {
          "output_type": "execute_result",
          "data": {
            "text/plain": [
              "{'african grey parrot': 2.4238900664386165e-07,\n",
              " 'australian king parrot': 2.8742283220140052e-08,\n",
              " 'blue lorikeet': 1.3817527566573062e-08,\n",
              " 'blue-and-yellow macaw': 1.4523610047945112e-07,\n",
              " 'blue-headed parrot': 2.2318381809327548e-07,\n",
              " 'budgerigar': 2.966168892726273e-07,\n",
              " 'burrowing parrot': 4.3425492890492023e-07,\n",
              " 'caique parrot': 0.00015266092668753117,\n",
              " 'catalina macaw': 3.27485213347245e-06,\n",
              " 'chestnut-fronted macaw': 7.606906393675672e-08,\n",
              " 'cockatiels': 1.5174572709497625e-08,\n",
              " 'crimson rosella': 8.174133085958601e-07,\n",
              " 'cuban amazon': 5.975822148229781e-08,\n",
              " 'eclectus parrot': 1.4897563005433767e-07,\n",
              " 'galah': 2.116636643734182e-08,\n",
              " 'golden parakeet': 0.0009243344538845122,\n",
              " 'great green macaw': 2.0022264379804255e-06,\n",
              " 'great hanging parrot': 9.968088932055252e-08,\n",
              " 'greater vasa parrot': 1.4778147772176453e-07,\n",
              " 'hahn_s macaws': 1.1656283049887861e-06,\n",
              " 'hooded parrot': 1.1677640543439338e-07,\n",
              " 'hyacinth macaw': 4.0817219826294604e-08,\n",
              " 'kea': 2.0988004223454482e-07,\n",
              " 'kākāpō': 1.0720027532329368e-08,\n",
              " 'lovebirds': 2.200581405986668e-07,\n",
              " 'monk parakeet': 1.9705943543613103e-08,\n",
              " 'orange-winged amazon': 1.1809559197217823e-07,\n",
              " 'palm cockatoo': 8.457237576919852e-09,\n",
              " 'parrotlet': 6.415610442900288e-08,\n",
              " 'plum-headed parakeet': 4.076033235378418e-07,\n",
              " 'puerto rican amazon': 1.3767623485705371e-08,\n",
              " 'rainbow lorikeet': 5.217787588662759e-07,\n",
              " 'red-breasted parakeet': 5.96888440895782e-08,\n",
              " 'red-crowned amazon': 6.264641569941887e-07,\n",
              " 'red-crowned parakeet': 4.3943245486843807e-07,\n",
              " 'red-fan parrot': 5.289288651511015e-08,\n",
              " 'red-shouldered macaw': 2.8357581527416187e-07,\n",
              " 'red-tailed black cockatoos': 5.188406593248374e-09,\n",
              " 'rose-ringed parakeet': 2.3179628882985526e-08,\n",
              " 'saint vincent amazon': 1.313898110311129e-07,\n",
              " 'scarlet macaw': 8.285651915684866e-07,\n",
              " 'senegal parrot': 4.2607544514794427e-07,\n",
              " 'spixs macaw': 1.0993351118315786e-08,\n",
              " 'sun conure': 0.9988889098167419,\n",
              " 'thick-billed parrot': 1.4942128473194316e-05,\n",
              " 'turquoise-fronted amazon': 1.778554519660247e-06,\n",
              " 'vernal hanging parrot': 4.206119896821292e-08,\n",
              " 'white cockatoo': 1.23539052765409e-07,\n",
              " 'yellow-collared macaws': 4.912950544166961e-07,\n",
              " 'yellow-headed amazon': 2.9241082302178256e-06}"
            ]
          },
          "metadata": {},
          "execution_count": 78
        }
      ],
      "source": [
        "recognize_image(img)"
      ]
    },
    {
      "cell_type": "code",
      "execution_count": 78,
      "id": "6e723cf7",
      "metadata": {
        "id": "6e723cf7"
      },
      "outputs": [],
      "source": []
    },
    {
      "cell_type": "code",
      "execution_count": 79,
      "id": "b66c47cc",
      "metadata": {
        "colab": {
          "base_uri": "https://localhost:8080/"
        },
        "id": "b66c47cc",
        "outputId": "c7614a9d-f74c-4cd9-80d6-a7442697e411"
      },
      "outputs": [
        {
          "output_type": "stream",
          "name": "stderr",
          "text": [
            "<ipython-input-79-bcdea7a1344f>:1: GradioDeprecationWarning: Usage of gradio.inputs is deprecated, and will not be supported in the future, please import your component from gradio.components\n",
            "  image = gr.inputs.Image(shape=(192,192))\n",
            "<ipython-input-79-bcdea7a1344f>:1: GradioDeprecationWarning: `optional` parameter is deprecated, and it has no effect\n",
            "  image = gr.inputs.Image(shape=(192,192))\n",
            "<ipython-input-79-bcdea7a1344f>:2: GradioDeprecationWarning: Usage of gradio.outputs is deprecated, and will not be supported in the future, please import your components from gradio.components\n",
            "  label = gr.outputs.Label()\n",
            "<ipython-input-79-bcdea7a1344f>:2: GradioUnusedKwargWarning: You have unused kwarg parameters in Label, please remove them: {'type': 'auto'}\n",
            "  label = gr.outputs.Label()\n"
          ]
        },
        {
          "output_type": "stream",
          "name": "stdout",
          "text": [
            "Colab notebook detected. To show errors in colab notebook, set debug=True in launch()\n",
            "Running on public URL: https://22a71f6f04c0fe0a1c.gradio.live\n",
            "\n",
            "This share link expires in 72 hours. For free permanent hosting and GPU upgrades, run `gradio deploy` from Terminal to deploy to Spaces (https://huggingface.co/spaces)\n"
          ]
        },
        {
          "output_type": "execute_result",
          "data": {
            "text/plain": []
          },
          "metadata": {},
          "execution_count": 79
        }
      ],
      "source": [
        "image = gr.inputs.Image(shape=(192,192))\n",
        "label = gr.outputs.Label()\n",
        "\n",
        "examples = [\n",
        "    \"/content/drive/MyDrive/Learnings/fai/test_images/unknown_00.jpg\",\n",
        "    \"/content/drive/MyDrive/Learnings/fai/test_images/unknown_01.jpg\",\n",
        "    \"/content/drive/MyDrive/Learnings/fai/test_images/unknown_02.jpg\",\n",
        "    \"/content/drive/MyDrive/Learnings/fai/test_images/unknown_03.jpg\",\n",
        "    \"/content/drive/MyDrive/Learnings/fai/test_images/unknown_04.jpg\",\n",
        "    \"/content/drive/MyDrive/Learnings/fai/test_images/unknown_05.jpg\",\n",
        "    \"/content/drive/MyDrive/Learnings/fai/test_images/unknown_06.jpg\",\n",
        "    \"/content/drive/MyDrive/Learnings/fai/test_images/unknown_07.jpg\",\n",
        "    \"/content/drive/MyDrive/Learnings/fai/test_images/unknown_08.jpg\",\n",
        "    \"/content/drive/MyDrive/Learnings/fai/test_images/unknown_09.jpg\",\n",
        "    \"/content/drive/MyDrive/Learnings/fai/test_images/unknown_10.jpg\",\n",
        "    \"/content/drive/MyDrive/Learnings/fai/test_images/unknown_11.jpg\",\n",
        "    \"/content/drive/MyDrive/Learnings/fai/test_images/unknown_12.jpg\",\n",
        "    \"/content/drive/MyDrive/Learnings/fai/test_images/unknown_13.jpg\",\n",
        "    \"/content/drive/MyDrive/Learnings/fai/test_images/unknown_14.jpg\",\n",
        "    ]\n",
        "\n",
        "iface = gr.Interface(fn=recognize_image, inputs=image, outputs=label, examples=examples)\n",
        "iface.launch(inline=False, share = True)"
      ]
    },
    {
      "cell_type": "code",
      "execution_count": 54,
      "id": "21ee1af1",
      "metadata": {
        "id": "21ee1af1"
      },
      "outputs": [],
      "source": []
    },
    {
      "cell_type": "markdown",
      "id": "087799ea",
      "metadata": {
        "id": "087799ea"
      },
      "source": [
        "# Notebook to Python Script Export"
      ]
    },
    {
      "cell_type": "code",
      "source": [],
      "metadata": {
        "id": "TWqLpM_B8qVA"
      },
      "id": "TWqLpM_B8qVA",
      "execution_count": 54,
      "outputs": []
    },
    {
      "cell_type": "code",
      "execution_count": 84,
      "id": "d32c9b5d",
      "metadata": {
        "id": "d32c9b5d"
      },
      "outputs": [],
      "source": [
        "from nbdev.export import nb_export"
      ]
    },
    {
      "cell_type": "code",
      "execution_count": null,
      "id": "98648e97",
      "metadata": {
        "id": "98648e97"
      },
      "outputs": [],
      "source": [
        "nb_export('app.py')"
      ]
    },
    {
      "cell_type": "code",
      "execution_count": null,
      "id": "3079c28c",
      "metadata": {
        "id": "3079c28c"
      },
      "outputs": [],
      "source": []
    }
  ],
  "metadata": {
    "kernelspec": {
      "display_name": "Python 3 (ipykernel)",
      "language": "python",
      "name": "python3"
    },
    "language_info": {
      "codemirror_mode": {
        "name": "ipython",
        "version": 3
      },
      "file_extension": ".py",
      "mimetype": "text/x-python",
      "name": "python",
      "nbconvert_exporter": "python",
      "pygments_lexer": "ipython3",
      "version": "3.9.12"
    },
    "colab": {
      "provenance": []
    }
  },
  "nbformat": 4,
  "nbformat_minor": 5
}